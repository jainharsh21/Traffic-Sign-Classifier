{
 "cells": [
  {
   "cell_type": "markdown",
   "metadata": {},
   "source": [
    "# CODE TO CLASSIFY TRAFFIC SIGNS USING LE-NET ARCHITECTURE IN KERAS"
   ]
  },
  {
   "cell_type": "markdown",
   "metadata": {},
   "source": [
    "# STEP 0: PROBLEM STATEMENT"
   ]
  },
  {
   "cell_type": "markdown",
   "metadata": {},
   "source": [
    "- In this case study, you have been provided with images of traffic signs and the goal is to train a Deep Network to classify them\n",
    "- The dataset contains 43 different classes of images. \n",
    "- Classes are as listed below: \n",
    "\n",
    "    - ( 0, b'Speed limit (20km/h)') ( 1, b'Speed limit (30km/h)')\n",
    "    - ( 2, b'Speed limit (50km/h)') ( 3, b'Speed limit (60km/h)')\n",
    "    - ( 4, b'Speed limit (70km/h)') ( 5, b'Speed limit (80km/h)')\n",
    "    - ( 6, b'End of speed limit (80km/h)') ( 7, b'Speed limit (100km/h)')\n",
    "    - ( 8, b'Speed limit (120km/h)') ( 9, b'No passing')\n",
    "    - (10, b'No passing for vehicles over 3.5 metric tons')\n",
    "    - (11, b'Right-of-way at the next intersection') (12, b'Priority road')\n",
    "    - (13, b'Yield') (14, b'Stop') (15, b'No vehicles')\n",
    "    - (16, b'Vehicles over 3.5 metric tons prohibited') (17, b'No entry')\n",
    "    - (18, b'General caution') (19, b'Dangerous curve to the left')\n",
    "    - (20, b'Dangerous curve to the right') (21, b'Double curve')\n",
    "    - (22, b'Bumpy road') (23, b'Slippery road')\n",
    "    - (24, b'Road narrows on the right') (25, b'Road work')\n",
    "    - (26, b'Traffic signals') (27, b'Pedestrians') (28, b'Children crossing')\n",
    "    - (29, b'Bicycles crossing') (30, b'Beware of ice/snow')\n",
    "    - (31, b'Wild animals crossing')\n",
    "    - (32, b'End of all speed and passing limits') (33, b'Turn right ahead')\n",
    "    - (34, b'Turn left ahead') (35, b'Ahead only') (36, b'Go straight or right')\n",
    "    - (37, b'Go straight or left') (38, b'Keep right') (39, b'Keep left')\n",
    "    - (40, b'Roundabout mandatory') (41, b'End of no passing')\n",
    "    - (42, b'End of no passing by vehicles over 3.5 metric tons')\n",
    "\n",
    "- The network used is called Le-Net that was presented by Yann LeCun\n",
    "http://yann.lecun.com/exdb/publis/pdf/lecun-01a.pdf\n"
   ]
  },
  {
   "cell_type": "markdown",
   "metadata": {},
   "source": [
    "Citation\n",
    "\n",
    "J. Stallkamp, M. Schlipsing, J. Salmen, and C. Igel. The German Traffic Sign Recognition Benchmark: A multi-class classification competition. In Proceedings of the IEEE International Joint Conference on Neural Networks, pages 1453–1460. 2011. \n",
    "\n",
    "@inproceedings{Stallkamp-IJCNN-2011,\n",
    "    author = {Johannes Stallkamp and Marc Schlipsing and Jan Salmen and Christian Igel},\n",
    "    booktitle = {IEEE International Joint Conference on Neural Networks},\n",
    "    title = {The {G}erman {T}raffic {S}ign {R}ecognition {B}enchmark: A multi-class classification competition},\n",
    "    year = {2011},\n",
    "    pages = {1453--1460}\n",
    "}\n",
    "\n"
   ]
  },
  {
   "cell_type": "markdown",
   "metadata": {},
   "source": [
    "# STEP 1: IMPORT LIBRARIES AND DATASET"
   ]
  },
  {
   "cell_type": "code",
   "execution_count": 1,
   "metadata": {},
   "outputs": [],
   "source": [
    "import warnings\n",
    "warnings.filterwarnings(\"ignore\")"
   ]
  },
  {
   "cell_type": "code",
   "execution_count": 2,
   "metadata": {},
   "outputs": [],
   "source": [
    "# import libraries \n",
    "import pickle\n",
    "import seaborn as sns\n",
    "import pandas as pd # Import Pandas for data manipulation using dataframes\n",
    "import numpy as np # Import Numpy for data statistical analysis \n",
    "import matplotlib.pyplot as plt # Import matplotlib for data visualisation\n",
    "import random"
   ]
  },
  {
   "cell_type": "code",
   "execution_count": 3,
   "metadata": {},
   "outputs": [],
   "source": [
    "# The pickle module implements binary protocols for serializing and de-serializing a Python object structure.\n",
    "with open(\"./traffic-signs-data/train.p\", mode='rb') as training_data:\n",
    "    train = pickle.load(training_data)\n",
    "with open(\"./traffic-signs-data/valid.p\", mode='rb') as validation_data:\n",
    "    valid = pickle.load(validation_data)\n",
    "with open(\"./traffic-signs-data/test.p\", mode='rb') as testing_data:\n",
    "    test = pickle.load(testing_data)"
   ]
  },
  {
   "cell_type": "code",
   "execution_count": null,
   "metadata": {},
   "outputs": [],
   "source": [
    "X_train,y_train = train['features'],train['labels']\n",
    "X_validation,y_validation = valid['features'],valid['labels']\n",
    "X_test,y_test = test['features'],test['labels']"
   ]
  },
  {
   "cell_type": "markdown",
   "metadata": {},
   "source": [
    "# STEP 2: IMAGE EXPLORATION"
   ]
  },
  {
   "cell_type": "code",
   "execution_count": null,
   "metadata": {},
   "outputs": [],
   "source": []
  },
  {
   "cell_type": "markdown",
   "metadata": {},
   "source": [
    "# STEP 3: DATA PEPARATION"
   ]
  },
  {
   "cell_type": "markdown",
   "metadata": {},
   "source": [
    "# STEP 4: MODEL TRAINING"
   ]
  },
  {
   "cell_type": "markdown",
   "metadata": {},
   "source": [
    "# STEP 5: MODEL EVALUATION"
   ]
  }
 ],
 "metadata": {
  "kernelspec": {
   "display_name": "Python 3",
   "language": "python",
   "name": "python3"
  },
  "language_info": {
   "codemirror_mode": {
    "name": "ipython",
    "version": 3
   },
   "file_extension": ".py",
   "mimetype": "text/x-python",
   "name": "python",
   "nbconvert_exporter": "python",
   "pygments_lexer": "ipython3",
   "version": "3.7.4-final"
  },
  "widgets": {
   "state": {},
   "version": "1.1.2"
  }
 },
 "nbformat": 4,
 "nbformat_minor": 2
}