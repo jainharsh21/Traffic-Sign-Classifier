{
 "cells": [
  {
   "cell_type": "markdown",
   "metadata": {},
   "source": [
    "# CODE TO CLASSIFY TRAFFIC SIGNS USING LE-NET ARCHITECTURE IN KERAS"
   ]
  },
  {
   "cell_type": "markdown",
   "metadata": {},
   "source": [
    "# STEP 0: PROBLEM STATEMENT"
   ]
  },
  {
   "cell_type": "markdown",
   "metadata": {},
   "source": [
    "- In this case study, you have been provided with images of traffic signs and the goal is to train a Deep Network to classify them\n",
    "- The dataset contains 43 different classes of images. \n",
    "- Classes are as listed below: \n",
    "\n",
    "    - ( 0, b'Speed limit (20km/h)') ( 1, b'Speed limit (30km/h)')\n",
    "    - ( 2, b'Speed limit (50km/h)') ( 3, b'Speed limit (60km/h)')\n",
    "    - ( 4, b'Speed limit (70km/h)') ( 5, b'Speed limit (80km/h)')\n",
    "    - ( 6, b'End of speed limit (80km/h)') ( 7, b'Speed limit (100km/h)')\n",
    "    - ( 8, b'Speed limit (120km/h)') ( 9, b'No passing')\n",
    "    - (10, b'No passing for vehicles over 3.5 metric tons')\n",
    "    - (11, b'Right-of-way at the next intersection') (12, b'Priority road')\n",
    "    - (13, b'Yield') (14, b'Stop') (15, b'No vehicles')\n",
    "    - (16, b'Vehicles over 3.5 metric tons prohibited') (17, b'No entry')\n",
    "    - (18, b'General caution') (19, b'Dangerous curve to the left')\n",
    "    - (20, b'Dangerous curve to the right') (21, b'Double curve')\n",
    "    - (22, b'Bumpy road') (23, b'Slippery road')\n",
    "    - (24, b'Road narrows on the right') (25, b'Road work')\n",
    "    - (26, b'Traffic signals') (27, b'Pedestrians') (28, b'Children crossing')\n",
    "    - (29, b'Bicycles crossing') (30, b'Beware of ice/snow')\n",
    "    - (31, b'Wild animals crossing')\n",
    "    - (32, b'End of all speed and passing limits') (33, b'Turn right ahead')\n",
    "    - (34, b'Turn left ahead') (35, b'Ahead only') (36, b'Go straight or right')\n",
    "    - (37, b'Go straight or left') (38, b'Keep right') (39, b'Keep left')\n",
    "    - (40, b'Roundabout mandatory') (41, b'End of no passing')\n",
    "    - (42, b'End of no passing by vehicles over 3.5 metric tons')\n",
    "\n",
    "- The network used is called Le-Net that was presented by Yann LeCun\n",
    "http://yann.lecun.com/exdb/publis/pdf/lecun-01a.pdf\n"
   ]
  },
  {
   "cell_type": "markdown",
   "metadata": {},
   "source": [
    "Citation\n",
    "\n",
    "J. Stallkamp, M. Schlipsing, J. Salmen, and C. Igel. The German Traffic Sign Recognition Benchmark: A multi-class classification competition. In Proceedings of the IEEE International Joint Conference on Neural Networks, pages 1453–1460. 2011. \n",
    "\n",
    "@inproceedings{Stallkamp-IJCNN-2011,\n",
    "    author = {Johannes Stallkamp and Marc Schlipsing and Jan Salmen and Christian Igel},\n",
    "    booktitle = {IEEE International Joint Conference on Neural Networks},\n",
    "    title = {The {G}erman {T}raffic {S}ign {R}ecognition {B}enchmark: A multi-class classification competition},\n",
    "    year = {2011},\n",
    "    pages = {1453--1460}\n",
    "}\n",
    "\n"
   ]
  },
  {
   "cell_type": "markdown",
   "metadata": {},
   "source": [
    "# STEP 1: IMPORT LIBRARIES AND DATASET"
   ]
  },
  {
   "cell_type": "code",
   "execution_count": 1,
   "metadata": {},
   "outputs": [],
   "source": [
    "import warnings\n",
    "warnings.filterwarnings(\"ignore\")"
   ]
  },
  {
   "cell_type": "code",
   "execution_count": 2,
   "metadata": {},
   "outputs": [],
   "source": [
    "# import libraries \n",
    "import pickle\n",
    "import seaborn as sns\n",
    "import pandas as pd # Import Pandas for data manipulation using dataframes\n",
    "import numpy as np # Import Numpy for data statistical analysis \n",
    "import matplotlib.pyplot as plt # Import matplotlib for data visualisation\n",
    "import random"
   ]
  },
  {
   "cell_type": "code",
   "execution_count": 3,
   "metadata": {},
   "outputs": [],
   "source": [
    "# The pickle module implements binary protocols for serializing and de-serializing a Python object structure.\n",
    "with open(\"./traffic-signs-data/train.p\", mode='rb') as training_data:\n",
    "    train = pickle.load(training_data)\n",
    "with open(\"./traffic-signs-data/valid.p\", mode='rb') as validation_data:\n",
    "    valid = pickle.load(validation_data)\n",
    "with open(\"./traffic-signs-data/test.p\", mode='rb') as testing_data:\n",
    "    test = pickle.load(testing_data)"
   ]
  },
  {
   "cell_type": "code",
   "execution_count": 4,
   "metadata": {},
   "outputs": [],
   "source": [
    "X_train,y_train = train['features'],train['labels']\n",
    "X_validation,y_validation = valid['features'],valid['labels']\n",
    "X_test,y_test = test['features'],test['labels']"
   ]
  },
  {
   "cell_type": "markdown",
   "metadata": {},
   "source": [
    "# STEP 2: IMAGE EXPLORATION"
   ]
  },
  {
   "cell_type": "code",
   "execution_count": 5,
   "metadata": {},
   "outputs": [
    {
     "output_type": "execute_result",
     "data": {
      "text/plain": [
       "36"
      ]
     },
     "metadata": {},
     "execution_count": 5
    },
    {
     "output_type": "display_data",
     "data": {
      "text/plain": "<Figure size 432x288 with 1 Axes>",
      "image/svg+xml": "<?xml version=\"1.0\" encoding=\"utf-8\" standalone=\"no\"?>\r\n<!DOCTYPE svg PUBLIC \"-//W3C//DTD SVG 1.1//EN\"\r\n  \"http://www.w3.org/Graphics/SVG/1.1/DTD/svg11.dtd\">\r\n<!-- Created with matplotlib (https://matplotlib.org/) -->\r\n<svg height=\"248.919844pt\" version=\"1.1\" viewBox=\"0 0 251.565 248.919844\" width=\"251.565pt\" xmlns=\"http://www.w3.org/2000/svg\" xmlns:xlink=\"http://www.w3.org/1999/xlink\">\r\n <metadata>\r\n  <rdf:RDF xmlns:cc=\"http://creativecommons.org/ns#\" xmlns:dc=\"http://purl.org/dc/elements/1.1/\" xmlns:rdf=\"http://www.w3.org/1999/02/22-rdf-syntax-ns#\">\r\n   <cc:Work>\r\n    <dc:type rdf:resource=\"http://purl.org/dc/dcmitype/StillImage\"/>\r\n    <dc:date>2020-10-26T22:39:48.030835</dc:date>\r\n    <dc:format>image/svg+xml</dc:format>\r\n    <dc:creator>\r\n     <cc:Agent>\r\n      <dc:title>Matplotlib v3.3.1, https://matplotlib.org/</dc:title>\r\n     </cc:Agent>\r\n    </dc:creator>\r\n   </cc:Work>\r\n  </rdf:RDF>\r\n </metadata>\r\n <defs>\r\n  <style type=\"text/css\">*{stroke-linecap:butt;stroke-linejoin:round;}</style>\r\n </defs>\r\n <g id=\"figure_1\">\r\n  <g id=\"patch_1\">\r\n   <path d=\"M 0 248.919844 \r\nL 251.565 248.919844 \r\nL 251.565 0 \r\nL 0 0 \r\nz\r\n\" style=\"fill:none;\"/>\r\n  </g>\r\n  <g id=\"axes_1\">\r\n   <g id=\"patch_2\">\r\n    <path d=\"M 26.925 225.041719 \r\nL 244.365 225.041719 \r\nL 244.365 7.601719 \r\nL 26.925 7.601719 \r\nz\r\n\" style=\"fill:#ffffff;\"/>\r\n   </g>\r\n   <g clip-path=\"url(#p4b8925fc2d)\">\r\n    <image height=\"218\" id=\"image244e3c6f2d\" transform=\"scale(1 -1)translate(0 -218)\" width=\"218\" x=\"26.925\" xlink:href=\"data:image/png;base64,\r\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\" y=\"-7.041719\"/>\r\n   </g>\r\n   <g id=\"matplotlib.axis_1\">\r\n    <g id=\"xtick_1\">\r\n     <g id=\"line2d_1\">\r\n      <defs>\r\n       <path d=\"M 0 0 \r\nL 0 3.5 \r\n\" id=\"mf195fcc9ce\" style=\"stroke:#000000;stroke-width:0.8;\"/>\r\n      </defs>\r\n      <g>\r\n       <use style=\"stroke:#000000;stroke-width:0.8;\" x=\"30.3225\" xlink:href=\"#mf195fcc9ce\" y=\"225.041719\"/>\r\n      </g>\r\n     </g>\r\n     <g id=\"text_1\">\r\n      <!-- 0 -->\r\n      <g transform=\"translate(27.14125 239.640156)scale(0.1 -0.1)\">\r\n       <defs>\r\n        <path d=\"M 31.78125 66.40625 \r\nQ 24.171875 66.40625 20.328125 58.90625 \r\nQ 16.5 51.421875 16.5 36.375 \r\nQ 16.5 21.390625 20.328125 13.890625 \r\nQ 24.171875 6.390625 31.78125 6.390625 \r\nQ 39.453125 6.390625 43.28125 13.890625 \r\nQ 47.125 21.390625 47.125 36.375 \r\nQ 47.125 51.421875 43.28125 58.90625 \r\nQ 39.453125 66.40625 31.78125 66.40625 \r\nz\r\nM 31.78125 74.21875 \r\nQ 44.046875 74.21875 50.515625 64.515625 \r\nQ 56.984375 54.828125 56.984375 36.375 \r\nQ 56.984375 17.96875 50.515625 8.265625 \r\nQ 44.046875 -1.421875 31.78125 -1.421875 \r\nQ 19.53125 -1.421875 13.0625 8.265625 \r\nQ 6.59375 17.96875 6.59375 36.375 \r\nQ 6.59375 54.828125 13.0625 64.515625 \r\nQ 19.53125 74.21875 31.78125 74.21875 \r\nz\r\n\" id=\"DejaVuSans-48\"/>\r\n       </defs>\r\n       <use xlink:href=\"#DejaVuSans-48\"/>\r\n      </g>\r\n     </g>\r\n    </g>\r\n    <g id=\"xtick_2\">\r\n     <g id=\"line2d_2\">\r\n      <g>\r\n       <use style=\"stroke:#000000;stroke-width:0.8;\" x=\"64.2975\" xlink:href=\"#mf195fcc9ce\" y=\"225.041719\"/>\r\n      </g>\r\n     </g>\r\n     <g id=\"text_2\">\r\n      <!-- 5 -->\r\n      <g transform=\"translate(61.11625 239.640156)scale(0.1 -0.1)\">\r\n       <defs>\r\n        <path d=\"M 10.796875 72.90625 \r\nL 49.515625 72.90625 \r\nL 49.515625 64.59375 \r\nL 19.828125 64.59375 \r\nL 19.828125 46.734375 \r\nQ 21.96875 47.46875 24.109375 47.828125 \r\nQ 26.265625 48.1875 28.421875 48.1875 \r\nQ 40.625 48.1875 47.75 41.5 \r\nQ 54.890625 34.8125 54.890625 23.390625 \r\nQ 54.890625 11.625 47.5625 5.09375 \r\nQ 40.234375 -1.421875 26.90625 -1.421875 \r\nQ 22.3125 -1.421875 17.546875 -0.640625 \r\nQ 12.796875 0.140625 7.71875 1.703125 \r\nL 7.71875 11.625 \r\nQ 12.109375 9.234375 16.796875 8.0625 \r\nQ 21.484375 6.890625 26.703125 6.890625 \r\nQ 35.15625 6.890625 40.078125 11.328125 \r\nQ 45.015625 15.765625 45.015625 23.390625 \r\nQ 45.015625 31 40.078125 35.4375 \r\nQ 35.15625 39.890625 26.703125 39.890625 \r\nQ 22.75 39.890625 18.8125 39.015625 \r\nQ 14.890625 38.140625 10.796875 36.28125 \r\nz\r\n\" id=\"DejaVuSans-53\"/>\r\n       </defs>\r\n       <use xlink:href=\"#DejaVuSans-53\"/>\r\n      </g>\r\n     </g>\r\n    </g>\r\n    <g id=\"xtick_3\">\r\n     <g id=\"line2d_3\">\r\n      <g>\r\n       <use style=\"stroke:#000000;stroke-width:0.8;\" x=\"98.2725\" xlink:href=\"#mf195fcc9ce\" y=\"225.041719\"/>\r\n      </g>\r\n     </g>\r\n     <g id=\"text_3\">\r\n      <!-- 10 -->\r\n      <g transform=\"translate(91.91 239.640156)scale(0.1 -0.1)\">\r\n       <defs>\r\n        <path d=\"M 12.40625 8.296875 \r\nL 28.515625 8.296875 \r\nL 28.515625 63.921875 \r\nL 10.984375 60.40625 \r\nL 10.984375 69.390625 \r\nL 28.421875 72.90625 \r\nL 38.28125 72.90625 \r\nL 38.28125 8.296875 \r\nL 54.390625 8.296875 \r\nL 54.390625 0 \r\nL 12.40625 0 \r\nz\r\n\" id=\"DejaVuSans-49\"/>\r\n       </defs>\r\n       <use xlink:href=\"#DejaVuSans-49\"/>\r\n       <use x=\"63.623047\" xlink:href=\"#DejaVuSans-48\"/>\r\n      </g>\r\n     </g>\r\n    </g>\r\n    <g id=\"xtick_4\">\r\n     <g id=\"line2d_4\">\r\n      <g>\r\n       <use style=\"stroke:#000000;stroke-width:0.8;\" x=\"132.2475\" xlink:href=\"#mf195fcc9ce\" y=\"225.041719\"/>\r\n      </g>\r\n     </g>\r\n     <g id=\"text_4\">\r\n      <!-- 15 -->\r\n      <g transform=\"translate(125.885 239.640156)scale(0.1 -0.1)\">\r\n       <use xlink:href=\"#DejaVuSans-49\"/>\r\n       <use x=\"63.623047\" xlink:href=\"#DejaVuSans-53\"/>\r\n      </g>\r\n     </g>\r\n    </g>\r\n    <g id=\"xtick_5\">\r\n     <g id=\"line2d_5\">\r\n      <g>\r\n       <use style=\"stroke:#000000;stroke-width:0.8;\" x=\"166.2225\" xlink:href=\"#mf195fcc9ce\" y=\"225.041719\"/>\r\n      </g>\r\n     </g>\r\n     <g id=\"text_5\">\r\n      <!-- 20 -->\r\n      <g transform=\"translate(159.86 239.640156)scale(0.1 -0.1)\">\r\n       <defs>\r\n        <path d=\"M 19.1875 8.296875 \r\nL 53.609375 8.296875 \r\nL 53.609375 0 \r\nL 7.328125 0 \r\nL 7.328125 8.296875 \r\nQ 12.9375 14.109375 22.625 23.890625 \r\nQ 32.328125 33.6875 34.8125 36.53125 \r\nQ 39.546875 41.84375 41.421875 45.53125 \r\nQ 43.3125 49.21875 43.3125 52.78125 \r\nQ 43.3125 58.59375 39.234375 62.25 \r\nQ 35.15625 65.921875 28.609375 65.921875 \r\nQ 23.96875 65.921875 18.8125 64.3125 \r\nQ 13.671875 62.703125 7.8125 59.421875 \r\nL 7.8125 69.390625 \r\nQ 13.765625 71.78125 18.9375 73 \r\nQ 24.125 74.21875 28.421875 74.21875 \r\nQ 39.75 74.21875 46.484375 68.546875 \r\nQ 53.21875 62.890625 53.21875 53.421875 \r\nQ 53.21875 48.921875 51.53125 44.890625 \r\nQ 49.859375 40.875 45.40625 35.40625 \r\nQ 44.1875 33.984375 37.640625 27.21875 \r\nQ 31.109375 20.453125 19.1875 8.296875 \r\nz\r\n\" id=\"DejaVuSans-50\"/>\r\n       </defs>\r\n       <use xlink:href=\"#DejaVuSans-50\"/>\r\n       <use x=\"63.623047\" xlink:href=\"#DejaVuSans-48\"/>\r\n      </g>\r\n     </g>\r\n    </g>\r\n    <g id=\"xtick_6\">\r\n     <g id=\"line2d_6\">\r\n      <g>\r\n       <use style=\"stroke:#000000;stroke-width:0.8;\" x=\"200.1975\" xlink:href=\"#mf195fcc9ce\" y=\"225.041719\"/>\r\n      </g>\r\n     </g>\r\n     <g id=\"text_6\">\r\n      <!-- 25 -->\r\n      <g transform=\"translate(193.835 239.640156)scale(0.1 -0.1)\">\r\n       <use xlink:href=\"#DejaVuSans-50\"/>\r\n       <use x=\"63.623047\" xlink:href=\"#DejaVuSans-53\"/>\r\n      </g>\r\n     </g>\r\n    </g>\r\n    <g id=\"xtick_7\">\r\n     <g id=\"line2d_7\">\r\n      <g>\r\n       <use style=\"stroke:#000000;stroke-width:0.8;\" x=\"234.1725\" xlink:href=\"#mf195fcc9ce\" y=\"225.041719\"/>\r\n      </g>\r\n     </g>\r\n     <g id=\"text_7\">\r\n      <!-- 30 -->\r\n      <g transform=\"translate(227.81 239.640156)scale(0.1 -0.1)\">\r\n       <defs>\r\n        <path d=\"M 40.578125 39.3125 \r\nQ 47.65625 37.796875 51.625 33 \r\nQ 55.609375 28.21875 55.609375 21.1875 \r\nQ 55.609375 10.40625 48.1875 4.484375 \r\nQ 40.765625 -1.421875 27.09375 -1.421875 \r\nQ 22.515625 -1.421875 17.65625 -0.515625 \r\nQ 12.796875 0.390625 7.625 2.203125 \r\nL 7.625 11.71875 \r\nQ 11.71875 9.328125 16.59375 8.109375 \r\nQ 21.484375 6.890625 26.8125 6.890625 \r\nQ 36.078125 6.890625 40.9375 10.546875 \r\nQ 45.796875 14.203125 45.796875 21.1875 \r\nQ 45.796875 27.640625 41.28125 31.265625 \r\nQ 36.765625 34.90625 28.71875 34.90625 \r\nL 20.21875 34.90625 \r\nL 20.21875 43.015625 \r\nL 29.109375 43.015625 \r\nQ 36.375 43.015625 40.234375 45.921875 \r\nQ 44.09375 48.828125 44.09375 54.296875 \r\nQ 44.09375 59.90625 40.109375 62.90625 \r\nQ 36.140625 65.921875 28.71875 65.921875 \r\nQ 24.65625 65.921875 20.015625 65.03125 \r\nQ 15.375 64.15625 9.8125 62.3125 \r\nL 9.8125 71.09375 \r\nQ 15.4375 72.65625 20.34375 73.4375 \r\nQ 25.25 74.21875 29.59375 74.21875 \r\nQ 40.828125 74.21875 47.359375 69.109375 \r\nQ 53.90625 64.015625 53.90625 55.328125 \r\nQ 53.90625 49.265625 50.4375 45.09375 \r\nQ 46.96875 40.921875 40.578125 39.3125 \r\nz\r\n\" id=\"DejaVuSans-51\"/>\r\n       </defs>\r\n       <use xlink:href=\"#DejaVuSans-51\"/>\r\n       <use x=\"63.623047\" xlink:href=\"#DejaVuSans-48\"/>\r\n      </g>\r\n     </g>\r\n    </g>\r\n   </g>\r\n   <g id=\"matplotlib.axis_2\">\r\n    <g id=\"ytick_1\">\r\n     <g id=\"line2d_8\">\r\n      <defs>\r\n       <path d=\"M 0 0 \r\nL -3.5 0 \r\n\" id=\"mc7a275c8fc\" style=\"stroke:#000000;stroke-width:0.8;\"/>\r\n      </defs>\r\n      <g>\r\n       <use style=\"stroke:#000000;stroke-width:0.8;\" x=\"26.925\" xlink:href=\"#mc7a275c8fc\" y=\"10.999219\"/>\r\n      </g>\r\n     </g>\r\n     <g id=\"text_8\">\r\n      <!-- 0 -->\r\n      <g transform=\"translate(13.5625 14.798437)scale(0.1 -0.1)\">\r\n       <use xlink:href=\"#DejaVuSans-48\"/>\r\n      </g>\r\n     </g>\r\n    </g>\r\n    <g id=\"ytick_2\">\r\n     <g id=\"line2d_9\">\r\n      <g>\r\n       <use style=\"stroke:#000000;stroke-width:0.8;\" x=\"26.925\" xlink:href=\"#mc7a275c8fc\" y=\"44.974219\"/>\r\n      </g>\r\n     </g>\r\n     <g id=\"text_9\">\r\n      <!-- 5 -->\r\n      <g transform=\"translate(13.5625 48.773437)scale(0.1 -0.1)\">\r\n       <use xlink:href=\"#DejaVuSans-53\"/>\r\n      </g>\r\n     </g>\r\n    </g>\r\n    <g id=\"ytick_3\">\r\n     <g id=\"line2d_10\">\r\n      <g>\r\n       <use style=\"stroke:#000000;stroke-width:0.8;\" x=\"26.925\" xlink:href=\"#mc7a275c8fc\" y=\"78.949219\"/>\r\n      </g>\r\n     </g>\r\n     <g id=\"text_10\">\r\n      <!-- 10 -->\r\n      <g transform=\"translate(7.2 82.748437)scale(0.1 -0.1)\">\r\n       <use xlink:href=\"#DejaVuSans-49\"/>\r\n       <use x=\"63.623047\" xlink:href=\"#DejaVuSans-48\"/>\r\n      </g>\r\n     </g>\r\n    </g>\r\n    <g id=\"ytick_4\">\r\n     <g id=\"line2d_11\">\r\n      <g>\r\n       <use style=\"stroke:#000000;stroke-width:0.8;\" x=\"26.925\" xlink:href=\"#mc7a275c8fc\" y=\"112.924219\"/>\r\n      </g>\r\n     </g>\r\n     <g id=\"text_11\">\r\n      <!-- 15 -->\r\n      <g transform=\"translate(7.2 116.723437)scale(0.1 -0.1)\">\r\n       <use xlink:href=\"#DejaVuSans-49\"/>\r\n       <use x=\"63.623047\" xlink:href=\"#DejaVuSans-53\"/>\r\n      </g>\r\n     </g>\r\n    </g>\r\n    <g id=\"ytick_5\">\r\n     <g id=\"line2d_12\">\r\n      <g>\r\n       <use style=\"stroke:#000000;stroke-width:0.8;\" x=\"26.925\" xlink:href=\"#mc7a275c8fc\" y=\"146.899219\"/>\r\n      </g>\r\n     </g>\r\n     <g id=\"text_12\">\r\n      <!-- 20 -->\r\n      <g transform=\"translate(7.2 150.698437)scale(0.1 -0.1)\">\r\n       <use xlink:href=\"#DejaVuSans-50\"/>\r\n       <use x=\"63.623047\" xlink:href=\"#DejaVuSans-48\"/>\r\n      </g>\r\n     </g>\r\n    </g>\r\n    <g id=\"ytick_6\">\r\n     <g id=\"line2d_13\">\r\n      <g>\r\n       <use style=\"stroke:#000000;stroke-width:0.8;\" x=\"26.925\" xlink:href=\"#mc7a275c8fc\" y=\"180.874219\"/>\r\n      </g>\r\n     </g>\r\n     <g id=\"text_13\">\r\n      <!-- 25 -->\r\n      <g transform=\"translate(7.2 184.673437)scale(0.1 -0.1)\">\r\n       <use xlink:href=\"#DejaVuSans-50\"/>\r\n       <use x=\"63.623047\" xlink:href=\"#DejaVuSans-53\"/>\r\n      </g>\r\n     </g>\r\n    </g>\r\n    <g id=\"ytick_7\">\r\n     <g id=\"line2d_14\">\r\n      <g>\r\n       <use style=\"stroke:#000000;stroke-width:0.8;\" x=\"26.925\" xlink:href=\"#mc7a275c8fc\" y=\"214.849219\"/>\r\n      </g>\r\n     </g>\r\n     <g id=\"text_14\">\r\n      <!-- 30 -->\r\n      <g transform=\"translate(7.2 218.648437)scale(0.1 -0.1)\">\r\n       <use xlink:href=\"#DejaVuSans-51\"/>\r\n       <use x=\"63.623047\" xlink:href=\"#DejaVuSans-48\"/>\r\n      </g>\r\n     </g>\r\n    </g>\r\n   </g>\r\n   <g id=\"patch_3\">\r\n    <path d=\"M 26.925 225.041719 \r\nL 26.925 7.601719 \r\n\" style=\"fill:none;stroke:#000000;stroke-linecap:square;stroke-linejoin:miter;stroke-width:0.8;\"/>\r\n   </g>\r\n   <g id=\"patch_4\">\r\n    <path d=\"M 244.365 225.041719 \r\nL 244.365 7.601719 \r\n\" style=\"fill:none;stroke:#000000;stroke-linecap:square;stroke-linejoin:miter;stroke-width:0.8;\"/>\r\n   </g>\r\n   <g id=\"patch_5\">\r\n    <path d=\"M 26.925 225.041719 \r\nL 244.365 225.041719 \r\n\" style=\"fill:none;stroke:#000000;stroke-linecap:square;stroke-linejoin:miter;stroke-width:0.8;\"/>\r\n   </g>\r\n   <g id=\"patch_6\">\r\n    <path d=\"M 26.925 7.601719 \r\nL 244.365 7.601719 \r\n\" style=\"fill:none;stroke:#000000;stroke-linecap:square;stroke-linejoin:miter;stroke-width:0.8;\"/>\r\n   </g>\r\n  </g>\r\n </g>\r\n <defs>\r\n  <clipPath id=\"p4b8925fc2d\">\r\n   <rect height=\"217.44\" width=\"217.44\" x=\"26.925\" y=\"7.601719\"/>\r\n  </clipPath>\r\n </defs>\r\n</svg>\r\n",
      "image/png": "[encoded data removed]"
     },
     "metadata": {
      "needs_background": "light"
     }
    }
   ],
   "source": [
    "i = 1000\n",
    "plt.imshow(X_train[i])\n",
    "y_train[i]"
   ]
  },
  {
   "cell_type": "code",
   "execution_count": 6,
   "metadata": {},
   "outputs": [
    {
     "output_type": "execute_result",
     "data": {
      "text/plain": [
       "17"
      ]
     },
     "metadata": {},
     "execution_count": 6
    },
    {
     "output_type": "display_data",
     "data": {
      "text/plain": "<Figure size 432x288 with 1 Axes>",
      "image/svg+xml": "<?xml version=\"1.0\" encoding=\"utf-8\" standalone=\"no\"?>\r\n<!DOCTYPE svg PUBLIC \"-//W3C//DTD SVG 1.1//EN\"\r\n  \"http://www.w3.org/Graphics/SVG/1.1/DTD/svg11.dtd\">\r\n<!-- Created with matplotlib (https://matplotlib.org/) -->\r\n<svg height=\"248.919844pt\" version=\"1.1\" viewBox=\"0 0 251.565 248.919844\" width=\"251.565pt\" xmlns=\"http://www.w3.org/2000/svg\" xmlns:xlink=\"http://www.w3.org/1999/xlink\">\r\n <metadata>\r\n  <rdf:RDF xmlns:cc=\"http://creativecommons.org/ns#\" xmlns:dc=\"http://purl.org/dc/elements/1.1/\" xmlns:rdf=\"http://www.w3.org/1999/02/22-rdf-syntax-ns#\">\r\n   <cc:Work>\r\n    <dc:type rdf:resource=\"http://purl.org/dc/dcmitype/StillImage\"/>\r\n    <dc:date>2020-10-26T22:39:48.400763</dc:date>\r\n    <dc:format>image/svg+xml</dc:format>\r\n    <dc:creator>\r\n     <cc:Agent>\r\n      <dc:title>Matplotlib v3.3.1, https://matplotlib.org/</dc:title>\r\n     </cc:Agent>\r\n    </dc:creator>\r\n   </cc:Work>\r\n  </rdf:RDF>\r\n </metadata>\r\n <defs>\r\n  <style type=\"text/css\">*{stroke-linecap:butt;stroke-linejoin:round;}</style>\r\n </defs>\r\n <g id=\"figure_1\">\r\n  <g id=\"patch_1\">\r\n   <path d=\"M 0 248.919844 \r\nL 251.565 248.919844 \r\nL 251.565 0 \r\nL 0 0 \r\nz\r\n\" style=\"fill:none;\"/>\r\n  </g>\r\n  <g id=\"axes_1\">\r\n   <g id=\"patch_2\">\r\n    <path d=\"M 26.925 225.041719 \r\nL 244.365 225.041719 \r\nL 244.365 7.601719 \r\nL 26.925 7.601719 \r\nz\r\n\" style=\"fill:#ffffff;\"/>\r\n   </g>\r\n   <g clip-path=\"url(#p33472013c4)\">\r\n    <image height=\"218\" id=\"image710cb5337d\" transform=\"scale(1 -1)translate(0 -218)\" width=\"218\" x=\"26.925\" xlink:href=\"data:image/png;base64,\r\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\" y=\"-7.041719\"/>\r\n   </g>\r\n   <g id=\"matplotlib.axis_1\">\r\n    <g id=\"xtick_1\">\r\n     <g id=\"line2d_1\">\r\n      <defs>\r\n       <path d=\"M 0 0 \r\nL 0 3.5 \r\n\" id=\"m3a00e92763\" style=\"stroke:#000000;stroke-width:0.8;\"/>\r\n      </defs>\r\n      <g>\r\n       <use style=\"stroke:#000000;stroke-width:0.8;\" x=\"30.3225\" xlink:href=\"#m3a00e92763\" y=\"225.041719\"/>\r\n      </g>\r\n     </g>\r\n     <g id=\"text_1\">\r\n      <!-- 0 -->\r\n      <g transform=\"translate(27.14125 239.640156)scale(0.1 -0.1)\">\r\n       <defs>\r\n        <path d=\"M 31.78125 66.40625 \r\nQ 24.171875 66.40625 20.328125 58.90625 \r\nQ 16.5 51.421875 16.5 36.375 \r\nQ 16.5 21.390625 20.328125 13.890625 \r\nQ 24.171875 6.390625 31.78125 6.390625 \r\nQ 39.453125 6.390625 43.28125 13.890625 \r\nQ 47.125 21.390625 47.125 36.375 \r\nQ 47.125 51.421875 43.28125 58.90625 \r\nQ 39.453125 66.40625 31.78125 66.40625 \r\nz\r\nM 31.78125 74.21875 \r\nQ 44.046875 74.21875 50.515625 64.515625 \r\nQ 56.984375 54.828125 56.984375 36.375 \r\nQ 56.984375 17.96875 50.515625 8.265625 \r\nQ 44.046875 -1.421875 31.78125 -1.421875 \r\nQ 19.53125 -1.421875 13.0625 8.265625 \r\nQ 6.59375 17.96875 6.59375 36.375 \r\nQ 6.59375 54.828125 13.0625 64.515625 \r\nQ 19.53125 74.21875 31.78125 74.21875 \r\nz\r\n\" id=\"DejaVuSans-48\"/>\r\n       </defs>\r\n       <use xlink:href=\"#DejaVuSans-48\"/>\r\n      </g>\r\n     </g>\r\n    </g>\r\n    <g id=\"xtick_2\">\r\n     <g id=\"line2d_2\">\r\n      <g>\r\n       <use style=\"stroke:#000000;stroke-width:0.8;\" x=\"64.2975\" xlink:href=\"#m3a00e92763\" y=\"225.041719\"/>\r\n      </g>\r\n     </g>\r\n     <g id=\"text_2\">\r\n      <!-- 5 -->\r\n      <g transform=\"translate(61.11625 239.640156)scale(0.1 -0.1)\">\r\n       <defs>\r\n        <path d=\"M 10.796875 72.90625 \r\nL 49.515625 72.90625 \r\nL 49.515625 64.59375 \r\nL 19.828125 64.59375 \r\nL 19.828125 46.734375 \r\nQ 21.96875 47.46875 24.109375 47.828125 \r\nQ 26.265625 48.1875 28.421875 48.1875 \r\nQ 40.625 48.1875 47.75 41.5 \r\nQ 54.890625 34.8125 54.890625 23.390625 \r\nQ 54.890625 11.625 47.5625 5.09375 \r\nQ 40.234375 -1.421875 26.90625 -1.421875 \r\nQ 22.3125 -1.421875 17.546875 -0.640625 \r\nQ 12.796875 0.140625 7.71875 1.703125 \r\nL 7.71875 11.625 \r\nQ 12.109375 9.234375 16.796875 8.0625 \r\nQ 21.484375 6.890625 26.703125 6.890625 \r\nQ 35.15625 6.890625 40.078125 11.328125 \r\nQ 45.015625 15.765625 45.015625 23.390625 \r\nQ 45.015625 31 40.078125 35.4375 \r\nQ 35.15625 39.890625 26.703125 39.890625 \r\nQ 22.75 39.890625 18.8125 39.015625 \r\nQ 14.890625 38.140625 10.796875 36.28125 \r\nz\r\n\" id=\"DejaVuSans-53\"/>\r\n       </defs>\r\n       <use xlink:href=\"#DejaVuSans-53\"/>\r\n      </g>\r\n     </g>\r\n    </g>\r\n    <g id=\"xtick_3\">\r\n     <g id=\"line2d_3\">\r\n      <g>\r\n       <use style=\"stroke:#000000;stroke-width:0.8;\" x=\"98.2725\" xlink:href=\"#m3a00e92763\" y=\"225.041719\"/>\r\n      </g>\r\n     </g>\r\n     <g id=\"text_3\">\r\n      <!-- 10 -->\r\n      <g transform=\"translate(91.91 239.640156)scale(0.1 -0.1)\">\r\n       <defs>\r\n        <path d=\"M 12.40625 8.296875 \r\nL 28.515625 8.296875 \r\nL 28.515625 63.921875 \r\nL 10.984375 60.40625 \r\nL 10.984375 69.390625 \r\nL 28.421875 72.90625 \r\nL 38.28125 72.90625 \r\nL 38.28125 8.296875 \r\nL 54.390625 8.296875 \r\nL 54.390625 0 \r\nL 12.40625 0 \r\nz\r\n\" id=\"DejaVuSans-49\"/>\r\n       </defs>\r\n       <use xlink:href=\"#DejaVuSans-49\"/>\r\n       <use x=\"63.623047\" xlink:href=\"#DejaVuSans-48\"/>\r\n      </g>\r\n     </g>\r\n    </g>\r\n    <g id=\"xtick_4\">\r\n     <g id=\"line2d_4\">\r\n      <g>\r\n       <use style=\"stroke:#000000;stroke-width:0.8;\" x=\"132.2475\" xlink:href=\"#m3a00e92763\" y=\"225.041719\"/>\r\n      </g>\r\n     </g>\r\n     <g id=\"text_4\">\r\n      <!-- 15 -->\r\n      <g transform=\"translate(125.885 239.640156)scale(0.1 -0.1)\">\r\n       <use xlink:href=\"#DejaVuSans-49\"/>\r\n       <use x=\"63.623047\" xlink:href=\"#DejaVuSans-53\"/>\r\n      </g>\r\n     </g>\r\n    </g>\r\n    <g id=\"xtick_5\">\r\n     <g id=\"line2d_5\">\r\n      <g>\r\n       <use style=\"stroke:#000000;stroke-width:0.8;\" x=\"166.2225\" xlink:href=\"#m3a00e92763\" y=\"225.041719\"/>\r\n      </g>\r\n     </g>\r\n     <g id=\"text_5\">\r\n      <!-- 20 -->\r\n      <g transform=\"translate(159.86 239.640156)scale(0.1 -0.1)\">\r\n       <defs>\r\n        <path d=\"M 19.1875 8.296875 \r\nL 53.609375 8.296875 \r\nL 53.609375 0 \r\nL 7.328125 0 \r\nL 7.328125 8.296875 \r\nQ 12.9375 14.109375 22.625 23.890625 \r\nQ 32.328125 33.6875 34.8125 36.53125 \r\nQ 39.546875 41.84375 41.421875 45.53125 \r\nQ 43.3125 49.21875 43.3125 52.78125 \r\nQ 43.3125 58.59375 39.234375 62.25 \r\nQ 35.15625 65.921875 28.609375 65.921875 \r\nQ 23.96875 65.921875 18.8125 64.3125 \r\nQ 13.671875 62.703125 7.8125 59.421875 \r\nL 7.8125 69.390625 \r\nQ 13.765625 71.78125 18.9375 73 \r\nQ 24.125 74.21875 28.421875 74.21875 \r\nQ 39.75 74.21875 46.484375 68.546875 \r\nQ 53.21875 62.890625 53.21875 53.421875 \r\nQ 53.21875 48.921875 51.53125 44.890625 \r\nQ 49.859375 40.875 45.40625 35.40625 \r\nQ 44.1875 33.984375 37.640625 27.21875 \r\nQ 31.109375 20.453125 19.1875 8.296875 \r\nz\r\n\" id=\"DejaVuSans-50\"/>\r\n       </defs>\r\n       <use xlink:href=\"#DejaVuSans-50\"/>\r\n       <use x=\"63.623047\" xlink:href=\"#DejaVuSans-48\"/>\r\n      </g>\r\n     </g>\r\n    </g>\r\n    <g id=\"xtick_6\">\r\n     <g id=\"line2d_6\">\r\n      <g>\r\n       <use style=\"stroke:#000000;stroke-width:0.8;\" x=\"200.1975\" xlink:href=\"#m3a00e92763\" y=\"225.041719\"/>\r\n      </g>\r\n     </g>\r\n     <g id=\"text_6\">\r\n      <!-- 25 -->\r\n      <g transform=\"translate(193.835 239.640156)scale(0.1 -0.1)\">\r\n       <use xlink:href=\"#DejaVuSans-50\"/>\r\n       <use x=\"63.623047\" xlink:href=\"#DejaVuSans-53\"/>\r\n      </g>\r\n     </g>\r\n    </g>\r\n    <g id=\"xtick_7\">\r\n     <g id=\"line2d_7\">\r\n      <g>\r\n       <use style=\"stroke:#000000;stroke-width:0.8;\" x=\"234.1725\" xlink:href=\"#m3a00e92763\" y=\"225.041719\"/>\r\n      </g>\r\n     </g>\r\n     <g id=\"text_7\">\r\n      <!-- 30 -->\r\n      <g transform=\"translate(227.81 239.640156)scale(0.1 -0.1)\">\r\n       <defs>\r\n        <path d=\"M 40.578125 39.3125 \r\nQ 47.65625 37.796875 51.625 33 \r\nQ 55.609375 28.21875 55.609375 21.1875 \r\nQ 55.609375 10.40625 48.1875 4.484375 \r\nQ 40.765625 -1.421875 27.09375 -1.421875 \r\nQ 22.515625 -1.421875 17.65625 -0.515625 \r\nQ 12.796875 0.390625 7.625 2.203125 \r\nL 7.625 11.71875 \r\nQ 11.71875 9.328125 16.59375 8.109375 \r\nQ 21.484375 6.890625 26.8125 6.890625 \r\nQ 36.078125 6.890625 40.9375 10.546875 \r\nQ 45.796875 14.203125 45.796875 21.1875 \r\nQ 45.796875 27.640625 41.28125 31.265625 \r\nQ 36.765625 34.90625 28.71875 34.90625 \r\nL 20.21875 34.90625 \r\nL 20.21875 43.015625 \r\nL 29.109375 43.015625 \r\nQ 36.375 43.015625 40.234375 45.921875 \r\nQ 44.09375 48.828125 44.09375 54.296875 \r\nQ 44.09375 59.90625 40.109375 62.90625 \r\nQ 36.140625 65.921875 28.71875 65.921875 \r\nQ 24.65625 65.921875 20.015625 65.03125 \r\nQ 15.375 64.15625 9.8125 62.3125 \r\nL 9.8125 71.09375 \r\nQ 15.4375 72.65625 20.34375 73.4375 \r\nQ 25.25 74.21875 29.59375 74.21875 \r\nQ 40.828125 74.21875 47.359375 69.109375 \r\nQ 53.90625 64.015625 53.90625 55.328125 \r\nQ 53.90625 49.265625 50.4375 45.09375 \r\nQ 46.96875 40.921875 40.578125 39.3125 \r\nz\r\n\" id=\"DejaVuSans-51\"/>\r\n       </defs>\r\n       <use xlink:href=\"#DejaVuSans-51\"/>\r\n       <use x=\"63.623047\" xlink:href=\"#DejaVuSans-48\"/>\r\n      </g>\r\n     </g>\r\n    </g>\r\n   </g>\r\n   <g id=\"matplotlib.axis_2\">\r\n    <g id=\"ytick_1\">\r\n     <g id=\"line2d_8\">\r\n      <defs>\r\n       <path d=\"M 0 0 \r\nL -3.5 0 \r\n\" id=\"ma72e9f3b12\" style=\"stroke:#000000;stroke-width:0.8;\"/>\r\n      </defs>\r\n      <g>\r\n       <use style=\"stroke:#000000;stroke-width:0.8;\" x=\"26.925\" xlink:href=\"#ma72e9f3b12\" y=\"10.999219\"/>\r\n      </g>\r\n     </g>\r\n     <g id=\"text_8\">\r\n      <!-- 0 -->\r\n      <g transform=\"translate(13.5625 14.798437)scale(0.1 -0.1)\">\r\n       <use xlink:href=\"#DejaVuSans-48\"/>\r\n      </g>\r\n     </g>\r\n    </g>\r\n    <g id=\"ytick_2\">\r\n     <g id=\"line2d_9\">\r\n      <g>\r\n       <use style=\"stroke:#000000;stroke-width:0.8;\" x=\"26.925\" xlink:href=\"#ma72e9f3b12\" y=\"44.974219\"/>\r\n      </g>\r\n     </g>\r\n     <g id=\"text_9\">\r\n      <!-- 5 -->\r\n      <g transform=\"translate(13.5625 48.773437)scale(0.1 -0.1)\">\r\n       <use xlink:href=\"#DejaVuSans-53\"/>\r\n      </g>\r\n     </g>\r\n    </g>\r\n    <g id=\"ytick_3\">\r\n     <g id=\"line2d_10\">\r\n      <g>\r\n       <use style=\"stroke:#000000;stroke-width:0.8;\" x=\"26.925\" xlink:href=\"#ma72e9f3b12\" y=\"78.949219\"/>\r\n      </g>\r\n     </g>\r\n     <g id=\"text_10\">\r\n      <!-- 10 -->\r\n      <g transform=\"translate(7.2 82.748437)scale(0.1 -0.1)\">\r\n       <use xlink:href=\"#DejaVuSans-49\"/>\r\n       <use x=\"63.623047\" xlink:href=\"#DejaVuSans-48\"/>\r\n      </g>\r\n     </g>\r\n    </g>\r\n    <g id=\"ytick_4\">\r\n     <g id=\"line2d_11\">\r\n      <g>\r\n       <use style=\"stroke:#000000;stroke-width:0.8;\" x=\"26.925\" xlink:href=\"#ma72e9f3b12\" y=\"112.924219\"/>\r\n      </g>\r\n     </g>\r\n     <g id=\"text_11\">\r\n      <!-- 15 -->\r\n      <g transform=\"translate(7.2 116.723437)scale(0.1 -0.1)\">\r\n       <use xlink:href=\"#DejaVuSans-49\"/>\r\n       <use x=\"63.623047\" xlink:href=\"#DejaVuSans-53\"/>\r\n      </g>\r\n     </g>\r\n    </g>\r\n    <g id=\"ytick_5\">\r\n     <g id=\"line2d_12\">\r\n      <g>\r\n       <use style=\"stroke:#000000;stroke-width:0.8;\" x=\"26.925\" xlink:href=\"#ma72e9f3b12\" y=\"146.899219\"/>\r\n      </g>\r\n     </g>\r\n     <g id=\"text_12\">\r\n      <!-- 20 -->\r\n      <g transform=\"translate(7.2 150.698437)scale(0.1 -0.1)\">\r\n       <use xlink:href=\"#DejaVuSans-50\"/>\r\n       <use x=\"63.623047\" xlink:href=\"#DejaVuSans-48\"/>\r\n      </g>\r\n     </g>\r\n    </g>\r\n    <g id=\"ytick_6\">\r\n     <g id=\"line2d_13\">\r\n      <g>\r\n       <use style=\"stroke:#000000;stroke-width:0.8;\" x=\"26.925\" xlink:href=\"#ma72e9f3b12\" y=\"180.874219\"/>\r\n      </g>\r\n     </g>\r\n     <g id=\"text_13\">\r\n      <!-- 25 -->\r\n      <g transform=\"translate(7.2 184.673437)scale(0.1 -0.1)\">\r\n       <use xlink:href=\"#DejaVuSans-50\"/>\r\n       <use x=\"63.623047\" xlink:href=\"#DejaVuSans-53\"/>\r\n      </g>\r\n     </g>\r\n    </g>\r\n    <g id=\"ytick_7\">\r\n     <g id=\"line2d_14\">\r\n      <g>\r\n       <use style=\"stroke:#000000;stroke-width:0.8;\" x=\"26.925\" xlink:href=\"#ma72e9f3b12\" y=\"214.849219\"/>\r\n      </g>\r\n     </g>\r\n     <g id=\"text_14\">\r\n      <!-- 30 -->\r\n      <g transform=\"translate(7.2 218.648437)scale(0.1 -0.1)\">\r\n       <use xlink:href=\"#DejaVuSans-51\"/>\r\n       <use x=\"63.623047\" xlink:href=\"#DejaVuSans-48\"/>\r\n      </g>\r\n     </g>\r\n    </g>\r\n   </g>\r\n   <g id=\"patch_3\">\r\n    <path d=\"M 26.925 225.041719 \r\nL 26.925 7.601719 \r\n\" style=\"fill:none;stroke:#000000;stroke-linecap:square;stroke-linejoin:miter;stroke-width:0.8;\"/>\r\n   </g>\r\n   <g id=\"patch_4\">\r\n    <path d=\"M 244.365 225.041719 \r\nL 244.365 7.601719 \r\n\" style=\"fill:none;stroke:#000000;stroke-linecap:square;stroke-linejoin:miter;stroke-width:0.8;\"/>\r\n   </g>\r\n   <g id=\"patch_5\">\r\n    <path d=\"M 26.925 225.041719 \r\nL 244.365 225.041719 \r\n\" style=\"fill:none;stroke:#000000;stroke-linecap:square;stroke-linejoin:miter;stroke-width:0.8;\"/>\r\n   </g>\r\n   <g id=\"patch_6\">\r\n    <path d=\"M 26.925 7.601719 \r\nL 244.365 7.601719 \r\n\" style=\"fill:none;stroke:#000000;stroke-linecap:square;stroke-linejoin:miter;stroke-width:0.8;\"/>\r\n   </g>\r\n  </g>\r\n </g>\r\n <defs>\r\n  <clipPath id=\"p33472013c4\">\r\n   <rect height=\"217.44\" width=\"217.44\" x=\"26.925\" y=\"7.601719\"/>\r\n  </clipPath>\r\n </defs>\r\n</svg>\r\n",
      "image/png": "[encoded data removed]"
     },
     "metadata": {
      "needs_background": "light"
     }
    }
   ],
   "source": [
    "i = 1000\n",
    "plt.imshow(X_test[i])\n",
    "y_test[i]"
   ]
  },
  {
   "cell_type": "code",
   "execution_count": 7,
   "metadata": {},
   "outputs": [
    {
     "output_type": "execute_result",
     "data": {
      "text/plain": [
       "4"
      ]
     },
     "metadata": {},
     "execution_count": 7
    },
    {
     "output_type": "display_data",
     "data": {
      "text/plain": "<Figure size 432x288 with 1 Axes>",
      "image/svg+xml": "<?xml version=\"1.0\" encoding=\"utf-8\" standalone=\"no\"?>\r\n<!DOCTYPE svg PUBLIC \"-//W3C//DTD SVG 1.1//EN\"\r\n  \"http://www.w3.org/Graphics/SVG/1.1/DTD/svg11.dtd\">\r\n<!-- Created with matplotlib (https://matplotlib.org/) -->\r\n<svg height=\"248.919844pt\" version=\"1.1\" viewBox=\"0 0 251.565 248.919844\" width=\"251.565pt\" xmlns=\"http://www.w3.org/2000/svg\" xmlns:xlink=\"http://www.w3.org/1999/xlink\">\r\n <metadata>\r\n  <rdf:RDF xmlns:cc=\"http://creativecommons.org/ns#\" xmlns:dc=\"http://purl.org/dc/elements/1.1/\" xmlns:rdf=\"http://www.w3.org/1999/02/22-rdf-syntax-ns#\">\r\n   <cc:Work>\r\n    <dc:type rdf:resource=\"http://purl.org/dc/dcmitype/StillImage\"/>\r\n    <dc:date>2020-10-26T22:39:48.704074</dc:date>\r\n    <dc:format>image/svg+xml</dc:format>\r\n    <dc:creator>\r\n     <cc:Agent>\r\n      <dc:title>Matplotlib v3.3.1, https://matplotlib.org/</dc:title>\r\n     </cc:Agent>\r\n    </dc:creator>\r\n   </cc:Work>\r\n  </rdf:RDF>\r\n </metadata>\r\n <defs>\r\n  <style type=\"text/css\">*{stroke-linecap:butt;stroke-linejoin:round;}</style>\r\n </defs>\r\n <g id=\"figure_1\">\r\n  <g id=\"patch_1\">\r\n   <path d=\"M 0 248.919844 \r\nL 251.565 248.919844 \r\nL 251.565 0 \r\nL 0 0 \r\nz\r\n\" style=\"fill:none;\"/>\r\n  </g>\r\n  <g id=\"axes_1\">\r\n   <g id=\"patch_2\">\r\n    <path d=\"M 26.925 225.041719 \r\nL 244.365 225.041719 \r\nL 244.365 7.601719 \r\nL 26.925 7.601719 \r\nz\r\n\" style=\"fill:#ffffff;\"/>\r\n   </g>\r\n   <g clip-path=\"url(#p36c6baac26)\">\r\n    <image height=\"218\" id=\"image07160d7b34\" transform=\"scale(1 -1)translate(0 -218)\" width=\"218\" x=\"26.925\" xlink:href=\"data:image/png;base64,\r\niVBORw0KGgoAAAANSUhEUgAAANoAAADaCAYAAADAHVzbAAARgElEQVR4nO2dSY8cV3aFb0yZWRNZLBYHTe22IXcbbcDzwn/de8Mrw/BCaqsluUVqYpMsFousKTNGL7h95wAm1Jeb71vGRWRGRsTJAM69cV71r//0N0sImmhVKWKZi5vHcZS7VFUla7UuRR3yEKMSx1GbD6ybWtZG8XkREcOiP3Oa9H6V+Lq9rpH7bNb6GG+2k6ydXfSy1q7Xxe2He/q7Djpdi0Vf62Gnj2OO8u++vB7kPr0595W51o25d+x9Je7VZdb7LIv7LgD4s4PQABJAaAAJIDSABBAaQAIIDSCBdhyNJdkYK3MqW8zj9H72fuv8fWvDlmuzsVpj1rZ606xkbWWs/6353Yuy/lv9m1frjf68Rh9Hd6NrIc6/+7c1DZ7YE+2CiAjTgYiLm21x+zTrncbZ2PuiXRARsYT+zLY2975oJzSN/q5p1OeeJxpAAggNIAGEBpAAQgNIAKEBJIDQABJo59FZqsb+FHZ822pDeAltf86zri1u6l9sd62EedK/q231f09t/pZqZ+0KS/hgoy38xrQSxtsbWavcWwRtV/4888bFaM7j9aSn7WfzHz4Iq940ZKIx7R/V4omIqEPv17WmzSPaV+6tkMW9MSIrAPCLgdAAEkBoAAkgNIAEEBpAAq2Jz/AukHDSZuOWLW442Fl6hkUMf7rPq42TFsalUkO5ERFdp93W1ao8qNwZh3M2w95jbxy4xZxH4SIPZiC6X9zArj7G3agzQ0blMFf6u8z8r8yvifB5Iq0Kc4mIlchzcYcx2NwbAPizg9AAEkBoAAkgNIAEEBpAAggNIIG2cTZ4rS1rNbRbGQPU2qmNGdY0+R/9ULZ2jeNrp4MHMUwaEbEyvZDN3p6sqYHY0XxX3+vffNW72HK9XzeWh4BNDIY9Hw4Xna3uHdd2MYngOnM9fBaN6aCoTkgstn2l4YkGkABCA0gAoQEkgNAAEkBoAAkgNIAEWpvFYGO6yzany+pwNrJx9228t2onLGYK36WF21hqkwuybyK891blNkm105kbXWum9/dNFHevP7MV16Y17Y6qcjkv+lyZGI9Qu03GIHfXzOV4NK2OeHfM4lhmk8nCip8AHxiEBpAAQgNIAKEBJIDQABJAaAAJtN5WN9autGK1xTkYa3S2kc///xjmyU2Py4p/Y8Es0BmHZoJ8b1cOv2l700rodWDO2oXimDcMmq4cCe7aJ+Z02Ij360r/tkW8cTEMZh8XJ++eF66nZGLoW3HvT+YeIJwH4AOD0AASQGgACSA0gAQQGkACCA0ggXYyq19OoS3mWZjkbuB/MkEvs7FvV6uyLR0R0Qr7tjHWbR3a8t1fHcnaHT2gH3FzIUuvz98WtzcmHcaF24Sw6SMiBjNRvxVtEpehv+r0f/HR3UO932Zf1pa6fF/NofP6t2ZVUhvc4yJznB0v3mioatNmeI+VaQHgFwShASSA0AASQGgACSA0gAQQGkACbW9scLkEauilaxu7bK3W9WK+azGhOJVYAnVtprb3W22Pn250rTIW/tmFrq32jovbu5W2wO+fnMiasp4jImrTJrm5vi5uv3z9Wu4z3b6Rtf78hawdnDyUtXsiyMj961+atJ+da+WYNxMmU5vFWxCDWfdgNC0InmgACSA0gAQQGkACCA0gAYQGkEDrFsa0qxuKknIjI3xWR2UyN8I4mSob5GitHT3rLG5fytqlcRbvnj6WtY8///vi9vunn8h9Hj02rqOJ6a4W7XztbspDu2c/PZf7XDz7H1l7/vMXsvb2/JmsHYrf3e3pgJJ53umayCCJ8BHvsxnc3op8m9k44IsZ0OeJBpAAQgNIAKEBJIDQABJAaAAJIDSABMy6kj7/Q620OZsBT2fT16am8kkiIuqmbNUfHR7IfdqbS1l7+eqVrJ1+9Bey9vhv/1HW9h58Wtx+dPJA7tMc6fZE05rhbJOR0Qzl1UDv3bkj9+lOdFDK6q7e7+mX2vq/PT8vbj8+NYPIezqfZFiu9HeZ+7ExLSV1x7WtaUG4+1RWAOAXA6EBJIDQABJAaAAJIDSABBAaQAJ2xc8wk/jKqp/Nqp616RfsixyJiIja2KaH+3vF7evpVu6zOzuTtb3Nsax9+tt/kLXjR7+StSdnfypuvx63cp+PN38pa3uNtv5fmfyP//3j18Xt26vy8b0rls9vRMS99jeydudT3Wa4/v1/FLcPF+VMk4iI9cmprK06Pdm/2+lz7NpX7/UOCit+AnxYEBpAAggNIAGEBpAAQgNIAKEBJNA2LhbZyFDt5iz8TsQsR0S0ppWwMks6djdlG3/a3ch9Njv9m08+07b6vc9+rfe7d1fWvv7uq+L2757/JPfp7utJ9ofdWta+//EHWfv5Zbmt0bQruc9tr8/V2ZWOC//84SNZ23tSfrOiudU2/TjqkJ2u08cfW23vy4Sp0C0lG11POA/AhwWhASSA0AASQGgACSA0gAQQGkACbR3aNq1NeMkkVpZ0+5hFG2MyU//RaPt2sylPlw/XOrBlE9oeP/34t7J29OhjWVutdOb9w8f3i9uf/kEHAV290db5yYEOHrq81GsH1GKl088++Z3cZ7zRE/VfffN7WVs90m2SO/fL52P31LxFMOn7dL3W19Pdj2HuuUW0mwZj7/fmGHmiASSA0AASQGgACSA0gAQQGkAC7aptZNGt3rmIQV+3guhkBphHszLjstYxzFNVPv6tWZnx0AzRPvxUr8K5mFyTodEDsft3j4vb94QLGBGxvdCx5YueN44bsapnRETblt25v/qk7AJGRLz+XmevfGlctulQR3gfi4Hj50+06zgN2tVdN9p1XNX6/i4HpL+jF0PM/aB/c2+OkScaQAIIDSABhAaQAEIDSAChASSA0AASaLtOW8zXW2eAluk6bcWvTLtgNrkg+hP1CqNu4dF2pX9zrUtRm8yT0fxnHQh7/+6Bifb++bms3X9YXkE0ImI36vN496D84zZrk6tR6XbBQaWvzEetboW8FatmXhkr3sRxRGtaQ5XJBZlMDslO1Aazj2oJRPBEA0gBoQEkgNAAEkBoAAkgNIAEEBpAAu3Q64ljm4EgLNqNsfBbExc+uThlY9G2TdmyFguSRkREP+rfPM3mDYOtzuO4vtV2fFuVp9U/faSzOr75+r9k7eWrb2WtH3TGx/a6bJ/3vZ5+H2Zt4e/Puv1z9sV/y9qheBuje6DfItgO5h4w12wx93DX6nu1E1kjo4sEN0t+8kQDSAChASSA0AASQGgACSA0gAQQGkAC7a43E/pmmlqZnKNbQdRM1A/Gco9aT5B3YhK/WplJcPNWwtmzn2Xt6PRI1p5895+y9vr1r4rb95YT/V0bfR6PbnSIzb1JhwR1q3J8+rdPddvixYvXsrY+vSdrn/y1Djn64t//rbj9/JWOSN+YFVB3Jtp7Z+z9rQnaGeayVT+az1vMvc8TDSABhAaQAEIDSAChASSA0AASQGgACbSNCarZGfszxMS0s0ynSVv4lRm3X0zoyZ7YrTGhQ/ONXk3z1Z++lLXpwW9k7btvdVb+dvipuL3uy9sjIrpBW/jbF3qifrNXflMgIuLly/JnvnjzQu7TbLSF/+BIW+5Pftaf+erVRXH78dGx3KcXb2lERFz2OlyoN7fwaN4YmUQvyq1Mu5h7mCcaQAIIDSABhAaQAEIDSAChASTQ7ptY6ular/Y4iOFKN1jZNC7cWzOZyOdBfN/+4YHcZ7w+l7W3b76Xtb03H8na7z7/F1nbiujsKvS52ltrh/PjU+32DXN5cDgi4o/Pfihu3/V6mLcNHe19bPJE+p90hsr8puzQTiv9v98c3pW17dbl3hhn0WR8zOLamGTyqBtcR4APCkIDSAChASSA0AASQGgACSA0gARaNTwZEdGYCO9KWNbW/jRx4WHaAtOi7dur63IE9tH+sdxn/1gP3j5/9kzWls3Xsvarv/tnWXv80a+L24+OT+U+zcqcSXMem3ola6ePHxS3b99qe//1sx9lbfv9N7L26ukfZG1TlQeE79w9lPucLzoL5Xbnhop1a2g0GTaqK+Ci5iujF55oAAkgNIAEEBpAAggNIAGEBpAAQgNIoJ1NBoLL8ajEKpy1caVXxhrVIeMRo1nxc+jLtu+NiRHfdHqyf9+0BS6ePpE115745Lb8w7uTG7nPyQN9HKPJeYnlSpduym9jvP1Rv7Fw/vQrWXv+3ReyNt7oa7a5V26vXJsVON9c6UyWftTX2rWv5sXk1IhMnEqsBBrh22E80QASQGgACSA0gAQQGkACCA0gAYQGkEDbD3r1S2vvizn9zgSUdI3x/s0kdSz6/2Cuyp+5m7TN/WbWE+6HG70KZ2v+l57/UA6+iYi4elu2n39c6Wn1+/fNZP+B3m9Z9LT67cVFcfvblzpIZ7zRtvrQ6+t5fF+/IXEp4r3PxJsYERFvt2ZCf9Bvd7hVZlUAT4RuC9StXkm2bXXbhScaQAIIDSABhAaQAEIDSAChASSA0AASaFWGfkREZ6zM1aocztMKuz0iIswUfpj9XODPLPoCN4O2g6dOZ8aPjbb+1wdHstbW+jxenp8Vt2/jQu7z9rkOCarNCqjuLYJZXE91DiMiqkb/F++flMN+IiKuzToL5yJM52JnAnh6beHvzD08mfPh7isVyz+bz3PniicaQAIIDSABhAaQAEIDSAChASSA0AASaF1e+Gajp5H31+XabIJSFrPM6RK6lVCZifRFLLs7mu8aF239jyKUJSKib/RxHJuJ+oP98rnqxPoF72rGRr7Vx7+4wJl1uXWxm7V1PlTmbYBK73dhlmW+GlRLxiyRa4LyZ9M2qo3l7oL0VcjUYsJ5KrMmAk80gAQQGkACCA0gAYQGkABCA0igdatwblZrvaMYyRzNpOZg4sdHM+Lpchr0CLAbbjaO3qQHWydz/FeVPldbkZXSmmHe2tSaff1dda2d4lHkYGzNwO5tr13krYhjj4jozY0wTsLtM+6yWyx2Npkyi7nW7h5ZxFRxazJxKhNQwhMNIAGEBpAAQgNIAKEBJIDQABJAaAAJtJXR2jhou3WYhCXsVlg0A7thbNPaLSMqhm8b3RGI2gyG2uM3g8qXO22Dz1G2wTetHipuzPkYVaBFRCyz2U9cz8EM7E5iaPtdTZairswFUNfMrQhr/H036DubPJHFtFBm8bubWv+uZdTx+jzRABJAaAAJIDSABBAaQAIIDSABhAaQgE3wvr7RuQ9q8Lk2H9i1WtetsU3dyqPK+p9sZsj7Tfa7RUknMwm+FvkqrTkfvWkXbI0dv5j/zllM1E+m7eJOVeXyM0wLolE5NbV+F0OtMPuu6GrmfIR+a0G1LlrTNxp7pvcBPigIDSABhAaQAEIDSAChASSA0AASaJ0dP7qkHWG31saydsP7/ait1no2k9vCUXWT5aOZ6K5NRLqLl16LFVAj9Mqpgwm+2Zk3J7bGRo7aWMxiot5f5fdrhfSTnmRX7YSq1udQLsEZEZVrKXXajnerd6qb1dwe9lzxRANIAKEBJIDQABJAaAAJIDSABBAaQAKtGYy30+UqqKY2U/gu6MX5piYvRx7HbPz9adTHUbU6u95O7+/MqpnCqh+3euXOSeXTh29dmMUvo6nLx+GumX+bwdj7pl2j8vybRk/vd+YY3dNiMlfNhfPIpKDW3adM7wN8UBAaQAIIDSABhAaQAEIDSKCV+Q0RMRp3TvkrvcmzcBkTq0a7fUtloptFDLPNDLGZG/o3N40eep3MapVq1cnKDUubIdrZuWXGRq6Ec2dXxTSu9GicReMvRyuc3cVYpu6aOdzgsMuiUdkgvRlI35pBcJ5oAAkgNIAEEBpAAggNIAGEBpAAQgNIoDURE7EsZmVJ4fs6W9ot6NibgWOX41GJlSCbRn9eV+lWQmMinxcTeuKGXtWw6eL+5owt3Zk2gzof7w6kvNkPKb/Hqq8RMZr2ilr5tXJWvKz42HLXFJhNO2EWQ93mZ4WRC080gAwQGkACCA0gAYQGkABCA0gAoQEk8H/tiMKoJ2RjfwAAAABJRU5ErkJggg==\" y=\"-7.041719\"/>\r\n   </g>\r\n   <g id=\"matplotlib.axis_1\">\r\n    <g id=\"xtick_1\">\r\n     <g id=\"line2d_1\">\r\n      <defs>\r\n       <path d=\"M 0 0 \r\nL 0 3.5 \r\n\" id=\"m2a3a931217\" style=\"stroke:#000000;stroke-width:0.8;\"/>\r\n      </defs>\r\n      <g>\r\n       <use style=\"stroke:#000000;stroke-width:0.8;\" x=\"30.3225\" xlink:href=\"#m2a3a931217\" y=\"225.041719\"/>\r\n      </g>\r\n     </g>\r\n     <g id=\"text_1\">\r\n      <!-- 0 -->\r\n      <g transform=\"translate(27.14125 239.640156)scale(0.1 -0.1)\">\r\n       <defs>\r\n        <path d=\"M 31.78125 66.40625 \r\nQ 24.171875 66.40625 20.328125 58.90625 \r\nQ 16.5 51.421875 16.5 36.375 \r\nQ 16.5 21.390625 20.328125 13.890625 \r\nQ 24.171875 6.390625 31.78125 6.390625 \r\nQ 39.453125 6.390625 43.28125 13.890625 \r\nQ 47.125 21.390625 47.125 36.375 \r\nQ 47.125 51.421875 43.28125 58.90625 \r\nQ 39.453125 66.40625 31.78125 66.40625 \r\nz\r\nM 31.78125 74.21875 \r\nQ 44.046875 74.21875 50.515625 64.515625 \r\nQ 56.984375 54.828125 56.984375 36.375 \r\nQ 56.984375 17.96875 50.515625 8.265625 \r\nQ 44.046875 -1.421875 31.78125 -1.421875 \r\nQ 19.53125 -1.421875 13.0625 8.265625 \r\nQ 6.59375 17.96875 6.59375 36.375 \r\nQ 6.59375 54.828125 13.0625 64.515625 \r\nQ 19.53125 74.21875 31.78125 74.21875 \r\nz\r\n\" id=\"DejaVuSans-48\"/>\r\n       </defs>\r\n       <use xlink:href=\"#DejaVuSans-48\"/>\r\n      </g>\r\n     </g>\r\n    </g>\r\n    <g id=\"xtick_2\">\r\n     <g id=\"line2d_2\">\r\n      <g>\r\n       <use style=\"stroke:#000000;stroke-width:0.8;\" x=\"64.2975\" xlink:href=\"#m2a3a931217\" y=\"225.041719\"/>\r\n      </g>\r\n     </g>\r\n     <g id=\"text_2\">\r\n      <!-- 5 -->\r\n      <g transform=\"translate(61.11625 239.640156)scale(0.1 -0.1)\">\r\n       <defs>\r\n        <path d=\"M 10.796875 72.90625 \r\nL 49.515625 72.90625 \r\nL 49.515625 64.59375 \r\nL 19.828125 64.59375 \r\nL 19.828125 46.734375 \r\nQ 21.96875 47.46875 24.109375 47.828125 \r\nQ 26.265625 48.1875 28.421875 48.1875 \r\nQ 40.625 48.1875 47.75 41.5 \r\nQ 54.890625 34.8125 54.890625 23.390625 \r\nQ 54.890625 11.625 47.5625 5.09375 \r\nQ 40.234375 -1.421875 26.90625 -1.421875 \r\nQ 22.3125 -1.421875 17.546875 -0.640625 \r\nQ 12.796875 0.140625 7.71875 1.703125 \r\nL 7.71875 11.625 \r\nQ 12.109375 9.234375 16.796875 8.0625 \r\nQ 21.484375 6.890625 26.703125 6.890625 \r\nQ 35.15625 6.890625 40.078125 11.328125 \r\nQ 45.015625 15.765625 45.015625 23.390625 \r\nQ 45.015625 31 40.078125 35.4375 \r\nQ 35.15625 39.890625 26.703125 39.890625 \r\nQ 22.75 39.890625 18.8125 39.015625 \r\nQ 14.890625 38.140625 10.796875 36.28125 \r\nz\r\n\" id=\"DejaVuSans-53\"/>\r\n       </defs>\r\n       <use xlink:href=\"#DejaVuSans-53\"/>\r\n      </g>\r\n     </g>\r\n    </g>\r\n    <g id=\"xtick_3\">\r\n     <g id=\"line2d_3\">\r\n      <g>\r\n       <use style=\"stroke:#000000;stroke-width:0.8;\" x=\"98.2725\" xlink:href=\"#m2a3a931217\" y=\"225.041719\"/>\r\n      </g>\r\n     </g>\r\n     <g id=\"text_3\">\r\n      <!-- 10 -->\r\n      <g transform=\"translate(91.91 239.640156)scale(0.1 -0.1)\">\r\n       <defs>\r\n        <path d=\"M 12.40625 8.296875 \r\nL 28.515625 8.296875 \r\nL 28.515625 63.921875 \r\nL 10.984375 60.40625 \r\nL 10.984375 69.390625 \r\nL 28.421875 72.90625 \r\nL 38.28125 72.90625 \r\nL 38.28125 8.296875 \r\nL 54.390625 8.296875 \r\nL 54.390625 0 \r\nL 12.40625 0 \r\nz\r\n\" id=\"DejaVuSans-49\"/>\r\n       </defs>\r\n       <use xlink:href=\"#DejaVuSans-49\"/>\r\n       <use x=\"63.623047\" xlink:href=\"#DejaVuSans-48\"/>\r\n      </g>\r\n     </g>\r\n    </g>\r\n    <g id=\"xtick_4\">\r\n     <g id=\"line2d_4\">\r\n      <g>\r\n       <use style=\"stroke:#000000;stroke-width:0.8;\" x=\"132.2475\" xlink:href=\"#m2a3a931217\" y=\"225.041719\"/>\r\n      </g>\r\n     </g>\r\n     <g id=\"text_4\">\r\n      <!-- 15 -->\r\n      <g transform=\"translate(125.885 239.640156)scale(0.1 -0.1)\">\r\n       <use xlink:href=\"#DejaVuSans-49\"/>\r\n       <use x=\"63.623047\" xlink:href=\"#DejaVuSans-53\"/>\r\n      </g>\r\n     </g>\r\n    </g>\r\n    <g id=\"xtick_5\">\r\n     <g id=\"line2d_5\">\r\n      <g>\r\n       <use style=\"stroke:#000000;stroke-width:0.8;\" x=\"166.2225\" xlink:href=\"#m2a3a931217\" y=\"225.041719\"/>\r\n      </g>\r\n     </g>\r\n     <g id=\"text_5\">\r\n      <!-- 20 -->\r\n      <g transform=\"translate(159.86 239.640156)scale(0.1 -0.1)\">\r\n       <defs>\r\n        <path d=\"M 19.1875 8.296875 \r\nL 53.609375 8.296875 \r\nL 53.609375 0 \r\nL 7.328125 0 \r\nL 7.328125 8.296875 \r\nQ 12.9375 14.109375 22.625 23.890625 \r\nQ 32.328125 33.6875 34.8125 36.53125 \r\nQ 39.546875 41.84375 41.421875 45.53125 \r\nQ 43.3125 49.21875 43.3125 52.78125 \r\nQ 43.3125 58.59375 39.234375 62.25 \r\nQ 35.15625 65.921875 28.609375 65.921875 \r\nQ 23.96875 65.921875 18.8125 64.3125 \r\nQ 13.671875 62.703125 7.8125 59.421875 \r\nL 7.8125 69.390625 \r\nQ 13.765625 71.78125 18.9375 73 \r\nQ 24.125 74.21875 28.421875 74.21875 \r\nQ 39.75 74.21875 46.484375 68.546875 \r\nQ 53.21875 62.890625 53.21875 53.421875 \r\nQ 53.21875 48.921875 51.53125 44.890625 \r\nQ 49.859375 40.875 45.40625 35.40625 \r\nQ 44.1875 33.984375 37.640625 27.21875 \r\nQ 31.109375 20.453125 19.1875 8.296875 \r\nz\r\n\" id=\"DejaVuSans-50\"/>\r\n       </defs>\r\n       <use xlink:href=\"#DejaVuSans-50\"/>\r\n       <use x=\"63.623047\" xlink:href=\"#DejaVuSans-48\"/>\r\n      </g>\r\n     </g>\r\n    </g>\r\n    <g id=\"xtick_6\">\r\n     <g id=\"line2d_6\">\r\n      <g>\r\n       <use style=\"stroke:#000000;stroke-width:0.8;\" x=\"200.1975\" xlink:href=\"#m2a3a931217\" y=\"225.041719\"/>\r\n      </g>\r\n     </g>\r\n     <g id=\"text_6\">\r\n      <!-- 25 -->\r\n      <g transform=\"translate(193.835 239.640156)scale(0.1 -0.1)\">\r\n       <use xlink:href=\"#DejaVuSans-50\"/>\r\n       <use x=\"63.623047\" xlink:href=\"#DejaVuSans-53\"/>\r\n      </g>\r\n     </g>\r\n    </g>\r\n    <g id=\"xtick_7\">\r\n     <g id=\"line2d_7\">\r\n      <g>\r\n       <use style=\"stroke:#000000;stroke-width:0.8;\" x=\"234.1725\" xlink:href=\"#m2a3a931217\" y=\"225.041719\"/>\r\n      </g>\r\n     </g>\r\n     <g id=\"text_7\">\r\n      <!-- 30 -->\r\n      <g transform=\"translate(227.81 239.640156)scale(0.1 -0.1)\">\r\n       <defs>\r\n        <path d=\"M 40.578125 39.3125 \r\nQ 47.65625 37.796875 51.625 33 \r\nQ 55.609375 28.21875 55.609375 21.1875 \r\nQ 55.609375 10.40625 48.1875 4.484375 \r\nQ 40.765625 -1.421875 27.09375 -1.421875 \r\nQ 22.515625 -1.421875 17.65625 -0.515625 \r\nQ 12.796875 0.390625 7.625 2.203125 \r\nL 7.625 11.71875 \r\nQ 11.71875 9.328125 16.59375 8.109375 \r\nQ 21.484375 6.890625 26.8125 6.890625 \r\nQ 36.078125 6.890625 40.9375 10.546875 \r\nQ 45.796875 14.203125 45.796875 21.1875 \r\nQ 45.796875 27.640625 41.28125 31.265625 \r\nQ 36.765625 34.90625 28.71875 34.90625 \r\nL 20.21875 34.90625 \r\nL 20.21875 43.015625 \r\nL 29.109375 43.015625 \r\nQ 36.375 43.015625 40.234375 45.921875 \r\nQ 44.09375 48.828125 44.09375 54.296875 \r\nQ 44.09375 59.90625 40.109375 62.90625 \r\nQ 36.140625 65.921875 28.71875 65.921875 \r\nQ 24.65625 65.921875 20.015625 65.03125 \r\nQ 15.375 64.15625 9.8125 62.3125 \r\nL 9.8125 71.09375 \r\nQ 15.4375 72.65625 20.34375 73.4375 \r\nQ 25.25 74.21875 29.59375 74.21875 \r\nQ 40.828125 74.21875 47.359375 69.109375 \r\nQ 53.90625 64.015625 53.90625 55.328125 \r\nQ 53.90625 49.265625 50.4375 45.09375 \r\nQ 46.96875 40.921875 40.578125 39.3125 \r\nz\r\n\" id=\"DejaVuSans-51\"/>\r\n       </defs>\r\n       <use xlink:href=\"#DejaVuSans-51\"/>\r\n       <use x=\"63.623047\" xlink:href=\"#DejaVuSans-48\"/>\r\n      </g>\r\n     </g>\r\n    </g>\r\n   </g>\r\n   <g id=\"matplotlib.axis_2\">\r\n    <g id=\"ytick_1\">\r\n     <g id=\"line2d_8\">\r\n      <defs>\r\n       <path d=\"M 0 0 \r\nL -3.5 0 \r\n\" id=\"m3cf3da8b41\" style=\"stroke:#000000;stroke-width:0.8;\"/>\r\n      </defs>\r\n      <g>\r\n       <use style=\"stroke:#000000;stroke-width:0.8;\" x=\"26.925\" xlink:href=\"#m3cf3da8b41\" y=\"10.999219\"/>\r\n      </g>\r\n     </g>\r\n     <g id=\"text_8\">\r\n      <!-- 0 -->\r\n      <g transform=\"translate(13.5625 14.798437)scale(0.1 -0.1)\">\r\n       <use xlink:href=\"#DejaVuSans-48\"/>\r\n      </g>\r\n     </g>\r\n    </g>\r\n    <g id=\"ytick_2\">\r\n     <g id=\"line2d_9\">\r\n      <g>\r\n       <use style=\"stroke:#000000;stroke-width:0.8;\" x=\"26.925\" xlink:href=\"#m3cf3da8b41\" y=\"44.974219\"/>\r\n      </g>\r\n     </g>\r\n     <g id=\"text_9\">\r\n      <!-- 5 -->\r\n      <g transform=\"translate(13.5625 48.773437)scale(0.1 -0.1)\">\r\n       <use xlink:href=\"#DejaVuSans-53\"/>\r\n      </g>\r\n     </g>\r\n    </g>\r\n    <g id=\"ytick_3\">\r\n     <g id=\"line2d_10\">\r\n      <g>\r\n       <use style=\"stroke:#000000;stroke-width:0.8;\" x=\"26.925\" xlink:href=\"#m3cf3da8b41\" y=\"78.949219\"/>\r\n      </g>\r\n     </g>\r\n     <g id=\"text_10\">\r\n      <!-- 10 -->\r\n      <g transform=\"translate(7.2 82.748437)scale(0.1 -0.1)\">\r\n       <use xlink:href=\"#DejaVuSans-49\"/>\r\n       <use x=\"63.623047\" xlink:href=\"#DejaVuSans-48\"/>\r\n      </g>\r\n     </g>\r\n    </g>\r\n    <g id=\"ytick_4\">\r\n     <g id=\"line2d_11\">\r\n      <g>\r\n       <use style=\"stroke:#000000;stroke-width:0.8;\" x=\"26.925\" xlink:href=\"#m3cf3da8b41\" y=\"112.924219\"/>\r\n      </g>\r\n     </g>\r\n     <g id=\"text_11\">\r\n      <!-- 15 -->\r\n      <g transform=\"translate(7.2 116.723437)scale(0.1 -0.1)\">\r\n       <use xlink:href=\"#DejaVuSans-49\"/>\r\n       <use x=\"63.623047\" xlink:href=\"#DejaVuSans-53\"/>\r\n      </g>\r\n     </g>\r\n    </g>\r\n    <g id=\"ytick_5\">\r\n     <g id=\"line2d_12\">\r\n      <g>\r\n       <use style=\"stroke:#000000;stroke-width:0.8;\" x=\"26.925\" xlink:href=\"#m3cf3da8b41\" y=\"146.899219\"/>\r\n      </g>\r\n     </g>\r\n     <g id=\"text_12\">\r\n      <!-- 20 -->\r\n      <g transform=\"translate(7.2 150.698437)scale(0.1 -0.1)\">\r\n       <use xlink:href=\"#DejaVuSans-50\"/>\r\n       <use x=\"63.623047\" xlink:href=\"#DejaVuSans-48\"/>\r\n      </g>\r\n     </g>\r\n    </g>\r\n    <g id=\"ytick_6\">\r\n     <g id=\"line2d_13\">\r\n      <g>\r\n       <use style=\"stroke:#000000;stroke-width:0.8;\" x=\"26.925\" xlink:href=\"#m3cf3da8b41\" y=\"180.874219\"/>\r\n      </g>\r\n     </g>\r\n     <g id=\"text_13\">\r\n      <!-- 25 -->\r\n      <g transform=\"translate(7.2 184.673437)scale(0.1 -0.1)\">\r\n       <use xlink:href=\"#DejaVuSans-50\"/>\r\n       <use x=\"63.623047\" xlink:href=\"#DejaVuSans-53\"/>\r\n      </g>\r\n     </g>\r\n    </g>\r\n    <g id=\"ytick_7\">\r\n     <g id=\"line2d_14\">\r\n      <g>\r\n       <use style=\"stroke:#000000;stroke-width:0.8;\" x=\"26.925\" xlink:href=\"#m3cf3da8b41\" y=\"214.849219\"/>\r\n      </g>\r\n     </g>\r\n     <g id=\"text_14\">\r\n      <!-- 30 -->\r\n      <g transform=\"translate(7.2 218.648437)scale(0.1 -0.1)\">\r\n       <use xlink:href=\"#DejaVuSans-51\"/>\r\n       <use x=\"63.623047\" xlink:href=\"#DejaVuSans-48\"/>\r\n      </g>\r\n     </g>\r\n    </g>\r\n   </g>\r\n   <g id=\"patch_3\">\r\n    <path d=\"M 26.925 225.041719 \r\nL 26.925 7.601719 \r\n\" style=\"fill:none;stroke:#000000;stroke-linecap:square;stroke-linejoin:miter;stroke-width:0.8;\"/>\r\n   </g>\r\n   <g id=\"patch_4\">\r\n    <path d=\"M 244.365 225.041719 \r\nL 244.365 7.601719 \r\n\" style=\"fill:none;stroke:#000000;stroke-linecap:square;stroke-linejoin:miter;stroke-width:0.8;\"/>\r\n   </g>\r\n   <g id=\"patch_5\">\r\n    <path d=\"M 26.925 225.041719 \r\nL 244.365 225.041719 \r\n\" style=\"fill:none;stroke:#000000;stroke-linecap:square;stroke-linejoin:miter;stroke-width:0.8;\"/>\r\n   </g>\r\n   <g id=\"patch_6\">\r\n    <path d=\"M 26.925 7.601719 \r\nL 244.365 7.601719 \r\n\" style=\"fill:none;stroke:#000000;stroke-linecap:square;stroke-linejoin:miter;stroke-width:0.8;\"/>\r\n   </g>\r\n  </g>\r\n </g>\r\n <defs>\r\n  <clipPath id=\"p36c6baac26\">\r\n   <rect height=\"217.44\" width=\"217.44\" x=\"26.925\" y=\"7.601719\"/>\r\n  </clipPath>\r\n </defs>\r\n</svg>\r\n",
      "image/png": "[encoded data removed]"
     },
     "metadata": {
      "needs_background": "light"
     }
    }
   ],
   "source": [
    "i = 1000\n",
    "plt.imshow(X_validation[i])\n",
    "y_validation[i]"
   ]
  },
  {
   "cell_type": "markdown",
   "metadata": {},
   "source": [
    "# STEP 3: DATA PEPARATION"
   ]
  },
  {
   "cell_type": "code",
   "execution_count": 8,
   "metadata": {},
   "outputs": [],
   "source": [
    "from sklearn.utils import shuffle\n",
    "X_train,y_train = shuffle(X_train,y_train)"
   ]
  },
  {
   "cell_type": "code",
   "execution_count": 9,
   "metadata": {},
   "outputs": [],
   "source": [
    "X_train_gray = np.sum(X_train/3,axis=3, keepdims=True)\n",
    "X_test_gray = np.sum(X_test/3,axis=3, keepdims=True)\n",
    "X_validation_gray = np.sum(X_validation/3,axis=3, keepdims=True)\n"
   ]
  },
  {
   "cell_type": "code",
   "execution_count": 10,
   "metadata": {},
   "outputs": [
    {
     "output_type": "execute_result",
     "data": {
      "text/plain": [
       "(34799, 32, 32, 1)"
      ]
     },
     "metadata": {},
     "execution_count": 10
    }
   ],
   "source": [
    "X_train_gray.shape"
   ]
  },
  {
   "cell_type": "code",
   "execution_count": 11,
   "metadata": {},
   "outputs": [
    {
     "output_type": "execute_result",
     "data": {
      "text/plain": [
       "(12630, 32, 32, 1)"
      ]
     },
     "metadata": {},
     "execution_count": 11
    }
   ],
   "source": [
    "X_test_gray.shape\n"
   ]
  },
  {
   "cell_type": "code",
   "execution_count": 12,
   "metadata": {},
   "outputs": [
    {
     "output_type": "execute_result",
     "data": {
      "text/plain": [
       "(4410, 32, 32, 1)"
      ]
     },
     "metadata": {},
     "execution_count": 12
    }
   ],
   "source": [
    "X_validation_gray.shape"
   ]
  },
  {
   "cell_type": "code",
   "execution_count": 13,
   "metadata": {},
   "outputs": [],
   "source": [
    "X_train_gray_norm = (X_train_gray-128)/128\n",
    "X_test_gray_norm = (X_test_gray-128)/128\n",
    "X_validation_gray_norm = (X_validation_gray-128)/128"
   ]
  },
  {
   "cell_type": "code",
   "execution_count": 14,
   "metadata": {},
   "outputs": [
    {
     "output_type": "execute_result",
     "data": {
      "text/plain": [
       "array([[[[ 0.9921875 ],\n",
       "         [ 0.98958333],\n",
       "         [ 0.9453125 ],\n",
       "         ...,\n",
       "         [-0.2421875 ],\n",
       "         [ 0.04947917],\n",
       "         [ 0.20572917]],\n",
       "\n",
       "        [[ 0.9921875 ],\n",
       "         [ 0.9921875 ],\n",
       "         [ 0.98697917],\n",
       "         ...,\n",
       "         [ 0.00260417],\n",
       "         [ 0.20572917],\n",
       "         [ 0.20052083]],\n",
       "\n",
       "        [[ 0.9921875 ],\n",
       "         [ 0.9921875 ],\n",
       "         [ 0.98697917],\n",
       "         ...,\n",
       "         [ 0.203125  ],\n",
       "         [ 0.1953125 ],\n",
       "         [ 0.171875  ]],\n",
       "\n",
       "        ...,\n",
       "\n",
       "        [[ 0.23958333],\n",
       "         [ 0.1953125 ],\n",
       "         [ 0.15885417],\n",
       "         ...,\n",
       "         [-0.11197917],\n",
       "         [-0.07552083],\n",
       "         [-0.04947917]],\n",
       "\n",
       "        [[ 0.2109375 ],\n",
       "         [ 0.15885417],\n",
       "         [ 0.14322917],\n",
       "         ...,\n",
       "         [-0.22135417],\n",
       "         [-0.22916667],\n",
       "         [-0.21354167]],\n",
       "\n",
       "        [[ 0.203125  ],\n",
       "         [ 0.1015625 ],\n",
       "         [ 0.09375   ],\n",
       "         ...,\n",
       "         [-0.33333333],\n",
       "         [-0.32552083],\n",
       "         [-0.32291667]]],\n",
       "\n",
       "\n",
       "       [[[-0.7265625 ],\n",
       "         [-0.6640625 ],\n",
       "         [-0.625     ],\n",
       "         ...,\n",
       "         [-0.5625    ],\n",
       "         [-0.55989583],\n",
       "         [-0.515625  ]],\n",
       "\n",
       "        [[-0.69791667],\n",
       "         [-0.70572917],\n",
       "         [-0.68489583],\n",
       "         ...,\n",
       "         [-0.51041667],\n",
       "         [-0.5078125 ],\n",
       "         [-0.49739583]],\n",
       "\n",
       "        [[-0.66927083],\n",
       "         [-0.68229167],\n",
       "         [-0.66927083],\n",
       "         ...,\n",
       "         [-0.55208333],\n",
       "         [-0.55208333],\n",
       "         [-0.53385417]],\n",
       "\n",
       "        ...,\n",
       "\n",
       "        [[-0.7265625 ],\n",
       "         [-0.66666667],\n",
       "         [-0.6484375 ],\n",
       "         ...,\n",
       "         [-0.3359375 ],\n",
       "         [-0.171875  ],\n",
       "         [-0.41145833]],\n",
       "\n",
       "        [[-0.6953125 ],\n",
       "         [-0.69270833],\n",
       "         [-0.67447917],\n",
       "         ...,\n",
       "         [-0.34114583],\n",
       "         [-0.18229167],\n",
       "         [-0.20572917]],\n",
       "\n",
       "        [[-0.65364583],\n",
       "         [-0.68229167],\n",
       "         [-0.67447917],\n",
       "         ...,\n",
       "         [-0.38802083],\n",
       "         [-0.25520833],\n",
       "         [-0.16145833]]],\n",
       "\n",
       "\n",
       "       [[[-0.77864583],\n",
       "         [-0.79166667],\n",
       "         [-0.78645833],\n",
       "         ...,\n",
       "         [-0.77864583],\n",
       "         [-0.7734375 ],\n",
       "         [-0.77083333]],\n",
       "\n",
       "        [[-0.79166667],\n",
       "         [-0.79166667],\n",
       "         [-0.78645833],\n",
       "         ...,\n",
       "         [-0.77604167],\n",
       "         [-0.76822917],\n",
       "         [-0.7734375 ]],\n",
       "\n",
       "        [[-0.796875  ],\n",
       "         [-0.79947917],\n",
       "         [-0.80208333],\n",
       "         ...,\n",
       "         [-0.78645833],\n",
       "         [-0.78125   ],\n",
       "         [-0.77604167]],\n",
       "\n",
       "        ...,\n",
       "\n",
       "        [[-0.7890625 ],\n",
       "         [-0.79427083],\n",
       "         [-0.79166667],\n",
       "         ...,\n",
       "         [-0.73958333],\n",
       "         [-0.73958333],\n",
       "         [-0.73697917]],\n",
       "\n",
       "        [[-0.77604167],\n",
       "         [-0.77864583],\n",
       "         [-0.77864583],\n",
       "         ...,\n",
       "         [-0.74739583],\n",
       "         [-0.75260417],\n",
       "         [-0.75      ]],\n",
       "\n",
       "        [[-0.79166667],\n",
       "         [-0.79166667],\n",
       "         [-0.78385417],\n",
       "         ...,\n",
       "         [-0.7421875 ],\n",
       "         [-0.75      ],\n",
       "         [-0.76041667]]],\n",
       "\n",
       "\n",
       "       ...,\n",
       "\n",
       "\n",
       "       [[[-0.73177083],\n",
       "         [-0.72916667],\n",
       "         [-0.72395833],\n",
       "         ...,\n",
       "         [-0.79947917],\n",
       "         [-0.80989583],\n",
       "         [-0.76822917]],\n",
       "\n",
       "        [[-0.76041667],\n",
       "         [-0.7578125 ],\n",
       "         [-0.75520833],\n",
       "         ...,\n",
       "         [-0.8125    ],\n",
       "         [-0.8203125 ],\n",
       "         [-0.828125  ]],\n",
       "\n",
       "        [[-0.75260417],\n",
       "         [-0.75      ],\n",
       "         [-0.74739583],\n",
       "         ...,\n",
       "         [-0.8125    ],\n",
       "         [-0.8203125 ],\n",
       "         [-0.83333333]],\n",
       "\n",
       "        ...,\n",
       "\n",
       "        [[-0.52604167],\n",
       "         [-0.52604167],\n",
       "         [-0.55208333],\n",
       "         ...,\n",
       "         [-0.7890625 ],\n",
       "         [-0.76041667],\n",
       "         [-0.76041667]],\n",
       "\n",
       "        [[-0.53385417],\n",
       "         [-0.54947917],\n",
       "         [-0.578125  ],\n",
       "         ...,\n",
       "         [-0.734375  ],\n",
       "         [-0.671875  ],\n",
       "         [-0.62239583]],\n",
       "\n",
       "        [[-0.55208333],\n",
       "         [-0.57291667],\n",
       "         [-0.60677083],\n",
       "         ...,\n",
       "         [ 0.29947917],\n",
       "         [ 0.2734375 ],\n",
       "         [ 0.22916667]]],\n",
       "\n",
       "\n",
       "       [[[-0.75260417],\n",
       "         [-0.7421875 ],\n",
       "         [-0.75      ],\n",
       "         ...,\n",
       "         [-0.80989583],\n",
       "         [-0.8125    ],\n",
       "         [-0.83333333]],\n",
       "\n",
       "        [[-0.73177083],\n",
       "         [-0.75      ],\n",
       "         [-0.75260417],\n",
       "         ...,\n",
       "         [-0.79947917],\n",
       "         [-0.8046875 ],\n",
       "         [-0.82552083]],\n",
       "\n",
       "        [[-0.6640625 ],\n",
       "         [-0.73697917],\n",
       "         [-0.75260417],\n",
       "         ...,\n",
       "         [-0.79427083],\n",
       "         [-0.796875  ],\n",
       "         [-0.81770833]],\n",
       "\n",
       "        ...,\n",
       "\n",
       "        [[-0.6328125 ],\n",
       "         [-0.60416667],\n",
       "         [-0.60677083],\n",
       "         ...,\n",
       "         [-0.7734375 ],\n",
       "         [-0.7734375 ],\n",
       "         [-0.77604167]],\n",
       "\n",
       "        [[-0.63020833],\n",
       "         [-0.546875  ],\n",
       "         [-0.51822917],\n",
       "         ...,\n",
       "         [-0.7734375 ],\n",
       "         [-0.77864583],\n",
       "         [-0.78125   ]],\n",
       "\n",
       "        [[-0.63802083],\n",
       "         [-0.60416667],\n",
       "         [-0.609375  ],\n",
       "         ...,\n",
       "         [-0.76041667],\n",
       "         [-0.77083333],\n",
       "         [-0.77864583]]],\n",
       "\n",
       "\n",
       "       [[[-0.86458333],\n",
       "         [-0.84375   ],\n",
       "         [-0.79947917],\n",
       "         ...,\n",
       "         [-0.70052083],\n",
       "         [-0.67447917],\n",
       "         [-0.71354167]],\n",
       "\n",
       "        [[-0.86197917],\n",
       "         [-0.83072917],\n",
       "         [-0.73697917],\n",
       "         ...,\n",
       "         [-0.7265625 ],\n",
       "         [-0.68489583],\n",
       "         [-0.64583333]],\n",
       "\n",
       "        [[-0.85416667],\n",
       "         [-0.81510417],\n",
       "         [-0.69791667],\n",
       "         ...,\n",
       "         [-0.73958333],\n",
       "         [-0.703125  ],\n",
       "         [-0.65625   ]],\n",
       "\n",
       "        ...,\n",
       "\n",
       "        [[-0.8515625 ],\n",
       "         [-0.84375   ],\n",
       "         [-0.84114583],\n",
       "         ...,\n",
       "         [-0.7890625 ],\n",
       "         [-0.83072917],\n",
       "         [-0.83854167]],\n",
       "\n",
       "        [[-0.84895833],\n",
       "         [-0.83854167],\n",
       "         [-0.83333333],\n",
       "         ...,\n",
       "         [-0.79427083],\n",
       "         [-0.83854167],\n",
       "         [-0.85416667]],\n",
       "\n",
       "        [[-0.83333333],\n",
       "         [-0.828125  ],\n",
       "         [-0.83333333],\n",
       "         ...,\n",
       "         [-0.81770833],\n",
       "         [-0.84635417],\n",
       "         [-0.85677083]]]])"
      ]
     },
     "metadata": {},
     "execution_count": 14
    }
   ],
   "source": [
    "X_train_gray_norm"
   ]
  },
  {
   "cell_type": "code",
   "execution_count": 15,
   "metadata": {},
   "outputs": [
    {
     "output_type": "execute_result",
     "data": {
      "text/plain": [
       "<matplotlib.image.AxesImage at 0x175950f0348>"
      ]
     },
     "metadata": {},
     "execution_count": 15
    },
    {
     "output_type": "display_data",
     "data": {
      "text/plain": "<Figure size 432x288 with 1 Axes>",
      "image/svg+xml": "<?xml version=\"1.0\" encoding=\"utf-8\" standalone=\"no\"?>\r\n<!DOCTYPE svg PUBLIC \"-//W3C//DTD SVG 1.1//EN\"\r\n  \"http://www.w3.org/Graphics/SVG/1.1/DTD/svg11.dtd\">\r\n<!-- Created with matplotlib (https://matplotlib.org/) -->\r\n<svg height=\"248.919844pt\" version=\"1.1\" viewBox=\"0 0 251.565 248.919844\" width=\"251.565pt\" xmlns=\"http://www.w3.org/2000/svg\" xmlns:xlink=\"http://www.w3.org/1999/xlink\">\r\n <metadata>\r\n  <rdf:RDF xmlns:cc=\"http://creativecommons.org/ns#\" xmlns:dc=\"http://purl.org/dc/elements/1.1/\" xmlns:rdf=\"http://www.w3.org/1999/02/22-rdf-syntax-ns#\">\r\n   <cc:Work>\r\n    <dc:type rdf:resource=\"http://purl.org/dc/dcmitype/StillImage\"/>\r\n    <dc:date>2020-10-26T22:39:56.676293</dc:date>\r\n    <dc:format>image/svg+xml</dc:format>\r\n    <dc:creator>\r\n     <cc:Agent>\r\n      <dc:title>Matplotlib v3.3.1, https://matplotlib.org/</dc:title>\r\n     </cc:Agent>\r\n    </dc:creator>\r\n   </cc:Work>\r\n  </rdf:RDF>\r\n </metadata>\r\n <defs>\r\n  <style type=\"text/css\">*{stroke-linecap:butt;stroke-linejoin:round;}</style>\r\n </defs>\r\n <g id=\"figure_1\">\r\n  <g id=\"patch_1\">\r\n   <path d=\"M 0 248.919844 \r\nL 251.565 248.919844 \r\nL 251.565 0 \r\nL 0 0 \r\nz\r\n\" style=\"fill:none;\"/>\r\n  </g>\r\n  <g id=\"axes_1\">\r\n   <g id=\"patch_2\">\r\n    <path d=\"M 26.925 225.041719 \r\nL 244.365 225.041719 \r\nL 244.365 7.601719 \r\nL 26.925 7.601719 \r\nz\r\n\" style=\"fill:#ffffff;\"/>\r\n   </g>\r\n   <g clip-path=\"url(#p75b04f0bd3)\">\r\n    <image height=\"218\" id=\"image0f8662bd27\" transform=\"scale(1 -1)translate(0 -218)\" width=\"218\" x=\"26.925\" xlink:href=\"data:image/png;base64,\r\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\" y=\"-7.041719\"/>\r\n   </g>\r\n   <g id=\"matplotlib.axis_1\">\r\n    <g id=\"xtick_1\">\r\n     <g id=\"line2d_1\">\r\n      <defs>\r\n       <path d=\"M 0 0 \r\nL 0 3.5 \r\n\" id=\"m91b209ab79\" style=\"stroke:#000000;stroke-width:0.8;\"/>\r\n      </defs>\r\n      <g>\r\n       <use style=\"stroke:#000000;stroke-width:0.8;\" x=\"30.3225\" xlink:href=\"#m91b209ab79\" y=\"225.041719\"/>\r\n      </g>\r\n     </g>\r\n     <g id=\"text_1\">\r\n      <!-- 0 -->\r\n      <g transform=\"translate(27.14125 239.640156)scale(0.1 -0.1)\">\r\n       <defs>\r\n        <path d=\"M 31.78125 66.40625 \r\nQ 24.171875 66.40625 20.328125 58.90625 \r\nQ 16.5 51.421875 16.5 36.375 \r\nQ 16.5 21.390625 20.328125 13.890625 \r\nQ 24.171875 6.390625 31.78125 6.390625 \r\nQ 39.453125 6.390625 43.28125 13.890625 \r\nQ 47.125 21.390625 47.125 36.375 \r\nQ 47.125 51.421875 43.28125 58.90625 \r\nQ 39.453125 66.40625 31.78125 66.40625 \r\nz\r\nM 31.78125 74.21875 \r\nQ 44.046875 74.21875 50.515625 64.515625 \r\nQ 56.984375 54.828125 56.984375 36.375 \r\nQ 56.984375 17.96875 50.515625 8.265625 \r\nQ 44.046875 -1.421875 31.78125 -1.421875 \r\nQ 19.53125 -1.421875 13.0625 8.265625 \r\nQ 6.59375 17.96875 6.59375 36.375 \r\nQ 6.59375 54.828125 13.0625 64.515625 \r\nQ 19.53125 74.21875 31.78125 74.21875 \r\nz\r\n\" id=\"DejaVuSans-48\"/>\r\n       </defs>\r\n       <use xlink:href=\"#DejaVuSans-48\"/>\r\n      </g>\r\n     </g>\r\n    </g>\r\n    <g id=\"xtick_2\">\r\n     <g id=\"line2d_2\">\r\n      <g>\r\n       <use style=\"stroke:#000000;stroke-width:0.8;\" x=\"64.2975\" xlink:href=\"#m91b209ab79\" y=\"225.041719\"/>\r\n      </g>\r\n     </g>\r\n     <g id=\"text_2\">\r\n      <!-- 5 -->\r\n      <g transform=\"translate(61.11625 239.640156)scale(0.1 -0.1)\">\r\n       <defs>\r\n        <path d=\"M 10.796875 72.90625 \r\nL 49.515625 72.90625 \r\nL 49.515625 64.59375 \r\nL 19.828125 64.59375 \r\nL 19.828125 46.734375 \r\nQ 21.96875 47.46875 24.109375 47.828125 \r\nQ 26.265625 48.1875 28.421875 48.1875 \r\nQ 40.625 48.1875 47.75 41.5 \r\nQ 54.890625 34.8125 54.890625 23.390625 \r\nQ 54.890625 11.625 47.5625 5.09375 \r\nQ 40.234375 -1.421875 26.90625 -1.421875 \r\nQ 22.3125 -1.421875 17.546875 -0.640625 \r\nQ 12.796875 0.140625 7.71875 1.703125 \r\nL 7.71875 11.625 \r\nQ 12.109375 9.234375 16.796875 8.0625 \r\nQ 21.484375 6.890625 26.703125 6.890625 \r\nQ 35.15625 6.890625 40.078125 11.328125 \r\nQ 45.015625 15.765625 45.015625 23.390625 \r\nQ 45.015625 31 40.078125 35.4375 \r\nQ 35.15625 39.890625 26.703125 39.890625 \r\nQ 22.75 39.890625 18.8125 39.015625 \r\nQ 14.890625 38.140625 10.796875 36.28125 \r\nz\r\n\" id=\"DejaVuSans-53\"/>\r\n       </defs>\r\n       <use xlink:href=\"#DejaVuSans-53\"/>\r\n      </g>\r\n     </g>\r\n    </g>\r\n    <g id=\"xtick_3\">\r\n     <g id=\"line2d_3\">\r\n      <g>\r\n       <use style=\"stroke:#000000;stroke-width:0.8;\" x=\"98.2725\" xlink:href=\"#m91b209ab79\" y=\"225.041719\"/>\r\n      </g>\r\n     </g>\r\n     <g id=\"text_3\">\r\n      <!-- 10 -->\r\n      <g transform=\"translate(91.91 239.640156)scale(0.1 -0.1)\">\r\n       <defs>\r\n        <path d=\"M 12.40625 8.296875 \r\nL 28.515625 8.296875 \r\nL 28.515625 63.921875 \r\nL 10.984375 60.40625 \r\nL 10.984375 69.390625 \r\nL 28.421875 72.90625 \r\nL 38.28125 72.90625 \r\nL 38.28125 8.296875 \r\nL 54.390625 8.296875 \r\nL 54.390625 0 \r\nL 12.40625 0 \r\nz\r\n\" id=\"DejaVuSans-49\"/>\r\n       </defs>\r\n       <use xlink:href=\"#DejaVuSans-49\"/>\r\n       <use x=\"63.623047\" xlink:href=\"#DejaVuSans-48\"/>\r\n      </g>\r\n     </g>\r\n    </g>\r\n    <g id=\"xtick_4\">\r\n     <g id=\"line2d_4\">\r\n      <g>\r\n       <use style=\"stroke:#000000;stroke-width:0.8;\" x=\"132.2475\" xlink:href=\"#m91b209ab79\" y=\"225.041719\"/>\r\n      </g>\r\n     </g>\r\n     <g id=\"text_4\">\r\n      <!-- 15 -->\r\n      <g transform=\"translate(125.885 239.640156)scale(0.1 -0.1)\">\r\n       <use xlink:href=\"#DejaVuSans-49\"/>\r\n       <use x=\"63.623047\" xlink:href=\"#DejaVuSans-53\"/>\r\n      </g>\r\n     </g>\r\n    </g>\r\n    <g id=\"xtick_5\">\r\n     <g id=\"line2d_5\">\r\n      <g>\r\n       <use style=\"stroke:#000000;stroke-width:0.8;\" x=\"166.2225\" xlink:href=\"#m91b209ab79\" y=\"225.041719\"/>\r\n      </g>\r\n     </g>\r\n     <g id=\"text_5\">\r\n      <!-- 20 -->\r\n      <g transform=\"translate(159.86 239.640156)scale(0.1 -0.1)\">\r\n       <defs>\r\n        <path d=\"M 19.1875 8.296875 \r\nL 53.609375 8.296875 \r\nL 53.609375 0 \r\nL 7.328125 0 \r\nL 7.328125 8.296875 \r\nQ 12.9375 14.109375 22.625 23.890625 \r\nQ 32.328125 33.6875 34.8125 36.53125 \r\nQ 39.546875 41.84375 41.421875 45.53125 \r\nQ 43.3125 49.21875 43.3125 52.78125 \r\nQ 43.3125 58.59375 39.234375 62.25 \r\nQ 35.15625 65.921875 28.609375 65.921875 \r\nQ 23.96875 65.921875 18.8125 64.3125 \r\nQ 13.671875 62.703125 7.8125 59.421875 \r\nL 7.8125 69.390625 \r\nQ 13.765625 71.78125 18.9375 73 \r\nQ 24.125 74.21875 28.421875 74.21875 \r\nQ 39.75 74.21875 46.484375 68.546875 \r\nQ 53.21875 62.890625 53.21875 53.421875 \r\nQ 53.21875 48.921875 51.53125 44.890625 \r\nQ 49.859375 40.875 45.40625 35.40625 \r\nQ 44.1875 33.984375 37.640625 27.21875 \r\nQ 31.109375 20.453125 19.1875 8.296875 \r\nz\r\n\" id=\"DejaVuSans-50\"/>\r\n       </defs>\r\n       <use xlink:href=\"#DejaVuSans-50\"/>\r\n       <use x=\"63.623047\" xlink:href=\"#DejaVuSans-48\"/>\r\n      </g>\r\n     </g>\r\n    </g>\r\n    <g id=\"xtick_6\">\r\n     <g id=\"line2d_6\">\r\n      <g>\r\n       <use style=\"stroke:#000000;stroke-width:0.8;\" x=\"200.1975\" xlink:href=\"#m91b209ab79\" y=\"225.041719\"/>\r\n      </g>\r\n     </g>\r\n     <g id=\"text_6\">\r\n      <!-- 25 -->\r\n      <g transform=\"translate(193.835 239.640156)scale(0.1 -0.1)\">\r\n       <use xlink:href=\"#DejaVuSans-50\"/>\r\n       <use x=\"63.623047\" xlink:href=\"#DejaVuSans-53\"/>\r\n      </g>\r\n     </g>\r\n    </g>\r\n    <g id=\"xtick_7\">\r\n     <g id=\"line2d_7\">\r\n      <g>\r\n       <use style=\"stroke:#000000;stroke-width:0.8;\" x=\"234.1725\" xlink:href=\"#m91b209ab79\" y=\"225.041719\"/>\r\n      </g>\r\n     </g>\r\n     <g id=\"text_7\">\r\n      <!-- 30 -->\r\n      <g transform=\"translate(227.81 239.640156)scale(0.1 -0.1)\">\r\n       <defs>\r\n        <path d=\"M 40.578125 39.3125 \r\nQ 47.65625 37.796875 51.625 33 \r\nQ 55.609375 28.21875 55.609375 21.1875 \r\nQ 55.609375 10.40625 48.1875 4.484375 \r\nQ 40.765625 -1.421875 27.09375 -1.421875 \r\nQ 22.515625 -1.421875 17.65625 -0.515625 \r\nQ 12.796875 0.390625 7.625 2.203125 \r\nL 7.625 11.71875 \r\nQ 11.71875 9.328125 16.59375 8.109375 \r\nQ 21.484375 6.890625 26.8125 6.890625 \r\nQ 36.078125 6.890625 40.9375 10.546875 \r\nQ 45.796875 14.203125 45.796875 21.1875 \r\nQ 45.796875 27.640625 41.28125 31.265625 \r\nQ 36.765625 34.90625 28.71875 34.90625 \r\nL 20.21875 34.90625 \r\nL 20.21875 43.015625 \r\nL 29.109375 43.015625 \r\nQ 36.375 43.015625 40.234375 45.921875 \r\nQ 44.09375 48.828125 44.09375 54.296875 \r\nQ 44.09375 59.90625 40.109375 62.90625 \r\nQ 36.140625 65.921875 28.71875 65.921875 \r\nQ 24.65625 65.921875 20.015625 65.03125 \r\nQ 15.375 64.15625 9.8125 62.3125 \r\nL 9.8125 71.09375 \r\nQ 15.4375 72.65625 20.34375 73.4375 \r\nQ 25.25 74.21875 29.59375 74.21875 \r\nQ 40.828125 74.21875 47.359375 69.109375 \r\nQ 53.90625 64.015625 53.90625 55.328125 \r\nQ 53.90625 49.265625 50.4375 45.09375 \r\nQ 46.96875 40.921875 40.578125 39.3125 \r\nz\r\n\" id=\"DejaVuSans-51\"/>\r\n       </defs>\r\n       <use xlink:href=\"#DejaVuSans-51\"/>\r\n       <use x=\"63.623047\" xlink:href=\"#DejaVuSans-48\"/>\r\n      </g>\r\n     </g>\r\n    </g>\r\n   </g>\r\n   <g id=\"matplotlib.axis_2\">\r\n    <g id=\"ytick_1\">\r\n     <g id=\"line2d_8\">\r\n      <defs>\r\n       <path d=\"M 0 0 \r\nL -3.5 0 \r\n\" id=\"m0c2c91676d\" style=\"stroke:#000000;stroke-width:0.8;\"/>\r\n      </defs>\r\n      <g>\r\n       <use style=\"stroke:#000000;stroke-width:0.8;\" x=\"26.925\" xlink:href=\"#m0c2c91676d\" y=\"10.999219\"/>\r\n      </g>\r\n     </g>\r\n     <g id=\"text_8\">\r\n      <!-- 0 -->\r\n      <g transform=\"translate(13.5625 14.798437)scale(0.1 -0.1)\">\r\n       <use xlink:href=\"#DejaVuSans-48\"/>\r\n      </g>\r\n     </g>\r\n    </g>\r\n    <g id=\"ytick_2\">\r\n     <g id=\"line2d_9\">\r\n      <g>\r\n       <use style=\"stroke:#000000;stroke-width:0.8;\" x=\"26.925\" xlink:href=\"#m0c2c91676d\" y=\"44.974219\"/>\r\n      </g>\r\n     </g>\r\n     <g id=\"text_9\">\r\n      <!-- 5 -->\r\n      <g transform=\"translate(13.5625 48.773437)scale(0.1 -0.1)\">\r\n       <use xlink:href=\"#DejaVuSans-53\"/>\r\n      </g>\r\n     </g>\r\n    </g>\r\n    <g id=\"ytick_3\">\r\n     <g id=\"line2d_10\">\r\n      <g>\r\n       <use style=\"stroke:#000000;stroke-width:0.8;\" x=\"26.925\" xlink:href=\"#m0c2c91676d\" y=\"78.949219\"/>\r\n      </g>\r\n     </g>\r\n     <g id=\"text_10\">\r\n      <!-- 10 -->\r\n      <g transform=\"translate(7.2 82.748437)scale(0.1 -0.1)\">\r\n       <use xlink:href=\"#DejaVuSans-49\"/>\r\n       <use x=\"63.623047\" xlink:href=\"#DejaVuSans-48\"/>\r\n      </g>\r\n     </g>\r\n    </g>\r\n    <g id=\"ytick_4\">\r\n     <g id=\"line2d_11\">\r\n      <g>\r\n       <use style=\"stroke:#000000;stroke-width:0.8;\" x=\"26.925\" xlink:href=\"#m0c2c91676d\" y=\"112.924219\"/>\r\n      </g>\r\n     </g>\r\n     <g id=\"text_11\">\r\n      <!-- 15 -->\r\n      <g transform=\"translate(7.2 116.723437)scale(0.1 -0.1)\">\r\n       <use xlink:href=\"#DejaVuSans-49\"/>\r\n       <use x=\"63.623047\" xlink:href=\"#DejaVuSans-53\"/>\r\n      </g>\r\n     </g>\r\n    </g>\r\n    <g id=\"ytick_5\">\r\n     <g id=\"line2d_12\">\r\n      <g>\r\n       <use style=\"stroke:#000000;stroke-width:0.8;\" x=\"26.925\" xlink:href=\"#m0c2c91676d\" y=\"146.899219\"/>\r\n      </g>\r\n     </g>\r\n     <g id=\"text_12\">\r\n      <!-- 20 -->\r\n      <g transform=\"translate(7.2 150.698437)scale(0.1 -0.1)\">\r\n       <use xlink:href=\"#DejaVuSans-50\"/>\r\n       <use x=\"63.623047\" xlink:href=\"#DejaVuSans-48\"/>\r\n      </g>\r\n     </g>\r\n    </g>\r\n    <g id=\"ytick_6\">\r\n     <g id=\"line2d_13\">\r\n      <g>\r\n       <use style=\"stroke:#000000;stroke-width:0.8;\" x=\"26.925\" xlink:href=\"#m0c2c91676d\" y=\"180.874219\"/>\r\n      </g>\r\n     </g>\r\n     <g id=\"text_13\">\r\n      <!-- 25 -->\r\n      <g transform=\"translate(7.2 184.673437)scale(0.1 -0.1)\">\r\n       <use xlink:href=\"#DejaVuSans-50\"/>\r\n       <use x=\"63.623047\" xlink:href=\"#DejaVuSans-53\"/>\r\n      </g>\r\n     </g>\r\n    </g>\r\n    <g id=\"ytick_7\">\r\n     <g id=\"line2d_14\">\r\n      <g>\r\n       <use style=\"stroke:#000000;stroke-width:0.8;\" x=\"26.925\" xlink:href=\"#m0c2c91676d\" y=\"214.849219\"/>\r\n      </g>\r\n     </g>\r\n     <g id=\"text_14\">\r\n      <!-- 30 -->\r\n      <g transform=\"translate(7.2 218.648437)scale(0.1 -0.1)\">\r\n       <use xlink:href=\"#DejaVuSans-51\"/>\r\n       <use x=\"63.623047\" xlink:href=\"#DejaVuSans-48\"/>\r\n      </g>\r\n     </g>\r\n    </g>\r\n   </g>\r\n   <g id=\"patch_3\">\r\n    <path d=\"M 26.925 225.041719 \r\nL 26.925 7.601719 \r\n\" style=\"fill:none;stroke:#000000;stroke-linecap:square;stroke-linejoin:miter;stroke-width:0.8;\"/>\r\n   </g>\r\n   <g id=\"patch_4\">\r\n    <path d=\"M 244.365 225.041719 \r\nL 244.365 7.601719 \r\n\" style=\"fill:none;stroke:#000000;stroke-linecap:square;stroke-linejoin:miter;stroke-width:0.8;\"/>\r\n   </g>\r\n   <g id=\"patch_5\">\r\n    <path d=\"M 26.925 225.041719 \r\nL 244.365 225.041719 \r\n\" style=\"fill:none;stroke:#000000;stroke-linecap:square;stroke-linejoin:miter;stroke-width:0.8;\"/>\r\n   </g>\r\n   <g id=\"patch_6\">\r\n    <path d=\"M 26.925 7.601719 \r\nL 244.365 7.601719 \r\n\" style=\"fill:none;stroke:#000000;stroke-linecap:square;stroke-linejoin:miter;stroke-width:0.8;\"/>\r\n   </g>\r\n  </g>\r\n </g>\r\n <defs>\r\n  <clipPath id=\"p75b04f0bd3\">\r\n   <rect height=\"217.44\" width=\"217.44\" x=\"26.925\" y=\"7.601719\"/>\r\n  </clipPath>\r\n </defs>\r\n</svg>\r\n",
      "image/png": "[encoded data removed]"
     },
     "metadata": {
      "needs_background": "light"
     }
    }
   ],
   "source": [
    "i = 619\n",
    "plt.imshow(X_test_gray_norm[i].squeeze(),cmap='gray')"
   ]
  },
  {
   "cell_type": "markdown",
   "metadata": {},
   "source": [
    "# STEP 4: MODEL TRAINING"
   ]
  },
  {
   "source": [
    "The model consists of the following layers: \n",
    "\n",
    "- STEP 1: THE FIRST CONVOLUTIONAL LAYER #1\n",
    "    - Input = 32x32x1\n",
    "    - Output = 28x28x6\n",
    "    - Output = (Input-filter+1)/Stride* => (32-5+1)/1=28\n",
    "    - Used a 5x5 Filter with input depth of 3 and output depth of 6\n",
    "    - Apply a RELU Activation function to the output\n",
    "    - pooling for input, Input = 28x28x6 and Output = 14x14x6\n",
    "\n",
    "\n",
    "    * Stride is the amount by which the kernel is shifted when the kernel is passed over the image.\n",
    "\n",
    "- STEP 2: THE SECOND CONVOLUTIONAL LAYER #2\n",
    "    - Input = 14x14x6\n",
    "    - Output = 10x10x16\n",
    "    - Layer 2: Convolutional layer with Output = 10x10x16\n",
    "    - Output = (Input-filter+1)/strides => 10 = 14-5+1/1\n",
    "    - Apply a RELU Activation function to the output\n",
    "    - Pooling with Input = 10x10x16 and Output = 5x5x16\n",
    "\n",
    "- STEP 3: FLATTENING THE NETWORK\n",
    "    - Flatten the network with Input = 5x5x16 and Output = 400\n",
    "\n",
    "- STEP 4: FULLY CONNECTED LAYER\n",
    "    - Layer 3: Fully Connected layer with Input = 400 and Output = 120\n",
    "    - Apply a RELU Activation function to the output\n",
    "\n",
    "- STEP 5: ANOTHER FULLY CONNECTED LAYER\n",
    "    - Layer 4: Fully Connected Layer with Input = 120 and Output = 84\n",
    "    - Apply a RELU Activation function to the output\n",
    "\n",
    "- STEP 6: FULLY CONNECTED LAYER\n",
    "    - Layer 5: Fully Connected layer with Input = 84 and Output = 43"
   ],
   "cell_type": "markdown",
   "metadata": {}
  },
  {
   "cell_type": "code",
   "execution_count": 16,
   "metadata": {},
   "outputs": [],
   "source": [
    "from keras.models import Sequential\n",
    "from keras.layers import Conv2D,MaxPooling2D,AveragePooling2D,Dense,Flatten,Dropout\n",
    "from keras.optimizers import Adam\n",
    "from keras.callbacks import TensorBoard\n",
    "\n"
   ]
  },
  {
   "cell_type": "code",
   "execution_count": 17,
   "metadata": {},
   "outputs": [],
   "source": [
    "cnn_model = Sequential()\n",
    "\n",
    "cnn_model.add(Conv2D(filters=6,kernel_size=(5,5),activation='relu',input_shape=(32,32,1)))\n",
    "cnn_model.add(AveragePooling2D())\n",
    "\n",
    "cnn_model.add(Conv2D(filters=16,kernel_size=(5,5),activation='relu'))\n",
    "cnn_model.add(AveragePooling2D())\n",
    "\n",
    "cnn_model.add(Flatten())\n",
    "\n",
    "cnn_model.add(Dense(units=120,activation='relu'))\n",
    "\n",
    "cnn_model.add(Dense(units=84,activation='relu'))\n",
    "\n",
    "cnn_model.add(Dense(units=43,activation='softmax'))\n",
    "\n",
    "\n",
    "\n",
    "\n",
    "\n"
   ]
  },
  {
   "cell_type": "code",
   "execution_count": 24,
   "metadata": {},
   "outputs": [],
   "source": [
    "cnn_model.compile(loss ='sparse_categorical_crossentropy', optimizer=Adam(lr=0.001),metrics =['accuracy'])"
   ]
  },
  {
   "cell_type": "code",
   "execution_count": 26,
   "metadata": {},
   "outputs": [
    {
     "output_type": "stream",
     "name": "stdout",
     "text": [
      "Epoch 1/5\n",
      "70/70 [==============================] - 18s 256ms/step - loss: 0.4407 - accuracy: 0.8812 - val_loss: 0.7306 - val_accuracy: 0.7925\n",
      "Epoch 2/5\n",
      "70/70 [==============================] - 16s 230ms/step - loss: 0.3796 - accuracy: 0.8972 - val_loss: 0.6657 - val_accuracy: 0.8122\n",
      "Epoch 3/5\n",
      "70/70 [==============================] - 17s 240ms/step - loss: 0.3274 - accuracy: 0.9149 - val_loss: 0.6458 - val_accuracy: 0.8236\n",
      "Epoch 4/5\n",
      "70/70 [==============================] - 16s 230ms/step - loss: 0.2925 - accuracy: 0.9245 - val_loss: 0.6850 - val_accuracy: 0.8132\n",
      "Epoch 5/5\n",
      "70/70 [==============================] - 18s 252ms/step - loss: 0.2626 - accuracy: 0.9320 - val_loss: 0.5789 - val_accuracy: 0.8397\n"
     ]
    }
   ],
   "source": [
    "history = cnn_model.fit(X_train_gray_norm,y_train,batch_size=500,epochs = 5,verbose=1,validation_data=(X_validation_gray_norm,y_validation))"
   ]
  },
  {
   "cell_type": "markdown",
   "metadata": {},
   "source": [
    "# STEP 5: MODEL EVALUATION"
   ]
  }
 ],
 "metadata": {
  "kernelspec": {
   "display_name": "Python 3",
   "language": "python",
   "name": "python3"
  },
  "language_info": {
   "codemirror_mode": {
    "name": "ipython",
    "version": 3
   },
   "file_extension": ".py",
   "mimetype": "text/x-python",
   "name": "python",
   "nbconvert_exporter": "python",
   "pygments_lexer": "ipython3",
   "version": "3.7.4-final"
  },
  "widgets": {
   "state": {},
   "version": "1.1.2"
  }
 },
 "nbformat": 4,
 "nbformat_minor": 2
}